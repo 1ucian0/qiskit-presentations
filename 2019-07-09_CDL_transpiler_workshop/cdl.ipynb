{
 "cells": [
  {
   "cell_type": "markdown",
   "metadata": {},
   "source": [
    "# Importing staff and loading accounts"
   ]
  },
  {
   "cell_type": "code",
   "execution_count": null,
   "metadata": {},
   "outputs": [],
   "source": [
    "%matplotlib inline\n",
    "# standard-ish Qiskit libraries\n",
    "from qiskit import QuantumRegister, ClassicalRegister, QuantumCircuit, execute, Aer, IBMQ\n",
    "\n",
    "# about transpiling, compiling, and executing\n",
    "from qiskit.compiler import transpile, assemble\n",
    "from qiskit.transpiler import CouplingMap, PassManager, Layout\n",
    "from qiskit.transpiler.passmanager import DoWhileController, ConditionalController, FlowController\n",
    "from qiskit.transpiler.passes import *\n",
    "\n",
    "# Standard Gates\n",
    "from qiskit.extensions.standard import *\n",
    "\n",
    "# For graphs\n",
    "from qiskit.tools.jupyter import *\n",
    "from qiskit.visualization import *\n",
    "\n",
    "# Aer noise models\n",
    "from qiskit.providers.aer import noise\n",
    "\n",
    "# Loading your IBM Q account(s)\n",
    "IBMQ.load_accounts()"
   ]
  },
  {
   "cell_type": "code",
   "execution_count": null,
   "metadata": {
    "scrolled": true
   },
   "outputs": [],
   "source": [
    "%qiskit_backend_overview"
   ]
  },
  {
   "cell_type": "code",
   "execution_count": null,
   "metadata": {
    "scrolled": true
   },
   "outputs": [],
   "source": [
    "ibmqx2 = IBMQ.get_backend('ibmqx2')\n",
    "%qiskit_backend_monitor ibmqx2"
   ]
  },
  {
   "cell_type": "code",
   "execution_count": null,
   "metadata": {},
   "outputs": [],
   "source": [
    "properties = ibmqx2.properties()\n",
    "coupling_map = ibmqx2.configuration().coupling_map\n",
    "noise_model = noise.device.basic_device_noise_model(properties)\n",
    "basis_gates = noise_model.basis_gates\n",
    "backend = Aer.get_backend('qasm_simulator')"
   ]
  },
  {
   "cell_type": "markdown",
   "metadata": {},
   "source": [
    "# The mapping problem"
   ]
  },
  {
   "cell_type": "code",
   "execution_count": null,
   "metadata": {},
   "outputs": [],
   "source": [
    "def check_mapper(circuit, coupling_map):\n",
    "        pm = PassManager([CheckMap(coupling_map), CheckCXDirection(coupling_map)])\n",
    "        pm.run(circuit)\n",
    "        print('right qubits?', pm.property_set['is_swap_mapped'])\n",
    "        print('right direction?', pm.property_set['is_direction_mapped'])\n",
    "coupling_map = CouplingMap(ibmqx2.configuration().coupling_map)\n",
    "print(coupling_map)"
   ]
  },
  {
   "cell_type": "code",
   "execution_count": null,
   "metadata": {},
   "outputs": [],
   "source": [
    "qr = QuantumRegister(5, 'q')\n",
    "cr = ClassicalRegister(2, 'c')\n",
    "circuit = QuantumCircuit(qr, cr)\n",
    "circuit.h(qr[0])\n",
    "circuit.cx(qr[0], qr[4])\n",
    "circuit.measure(qr[0], cr[0])\n",
    "circuit.measure(qr[4], cr[1])\n",
    "check_mapper(circuit, coupling_map)\n",
    "circuit.draw(output='latex')"
   ]
  },
  {
   "cell_type": "code",
   "execution_count": null,
   "metadata": {},
   "outputs": [],
   "source": [
    "pm = PassManager(BasicSwap(coupling_map))\n",
    "circuit = pm.run(circuit)\n",
    "check_mapper(circuit, coupling_map)\n",
    "circuit.draw()"
   ]
  },
  {
   "cell_type": "code",
   "execution_count": null,
   "metadata": {},
   "outputs": [],
   "source": [
    "pm = PassManager(Decompose(SwapGate))\n",
    "circuit = pm.run(circuit)\n",
    "check_mapper(circuit, coupling_map)\n",
    "circuit.draw()"
   ]
  },
  {
   "cell_type": "code",
   "execution_count": null,
   "metadata": {},
   "outputs": [],
   "source": [
    "pm = PassManager(CXDirection(coupling_map))\n",
    "circuit = pm.run(circuit)\n",
    "check_mapper(circuit, coupling_map)\n",
    "circuit.draw()"
   ]
  },
  {
   "cell_type": "code",
   "execution_count": null,
   "metadata": {},
   "outputs": [],
   "source": [
    "job_sim = execute(circuit, backend,\n",
    "                  coupling_map=coupling_map,\n",
    "                  noise_model=noise_model,\n",
    "                  basis_gates=basis_gates)\n",
    "counts = job_sim.result().get_counts()\n",
    "plot_histogram(counts)"
   ]
  },
  {
   "cell_type": "markdown",
   "metadata": {},
   "source": [
    "# Layout selection"
   ]
  },
  {
   "cell_type": "code",
   "execution_count": null,
   "metadata": {},
   "outputs": [],
   "source": [
    "# Same circuit as before\n",
    "qr = QuantumRegister(5, 'q')\n",
    "cr = ClassicalRegister(2, 'c')\n",
    "circuit = QuantumCircuit(qr, cr)\n",
    "circuit.h(qr[0])\n",
    "circuit.cx(qr[0], qr[4])\n",
    "circuit.measure(qr[0], cr[0])\n",
    "circuit.measure(qr[4], cr[1])\n",
    "\n",
    "pm = PassManager()\n",
    "pm.append([CheckMap(coupling_map), CheckCXDirection(coupling_map)])\n",
    "circuit = pm.run(circuit)\n",
    "print(coupling_map)\n",
    "print('right qubits?', pm.property_set['is_swap_mapped'])\n",
    "print('right direction?', pm.property_set['is_direction_mapped'])\n",
    "\n",
    "circuit.draw()"
   ]
  },
  {
   "cell_type": "code",
   "execution_count": null,
   "metadata": {},
   "outputs": [],
   "source": [
    "layout = Layout({qr[0]: 0,\n",
    "                 qr[1]: 4,\n",
    "                 qr[2]: 2,\n",
    "                 qr[3]: 3,\n",
    "                 qr[4]: 1})\n",
    "\n",
    "pm = PassManager(SetLayout(layout))\n",
    "pm.append([CheckMap(coupling_map), CheckCXDirection(coupling_map)])\n",
    "circuit = pm.run(circuit)\n",
    "print(coupling_map)\n",
    "print('right qubits?', pm.property_set['is_swap_mapped'])\n",
    "print('right direction?', pm.property_set['is_direction_mapped'])\n",
    "\n",
    "circuit = pm.run(circuit)\n",
    "circuit.draw()"
   ]
  },
  {
   "cell_type": "code",
   "execution_count": null,
   "metadata": {
    "scrolled": true
   },
   "outputs": [],
   "source": [
    "job_sim = execute(circuit, backend,\n",
    "                  coupling_map=coupling_map,\n",
    "                  noise_model=noise_model,\n",
    "                  basis_gates=basis_gates)\n",
    "counts = job_sim.result().get_counts()\n",
    "plot_histogram(counts)"
   ]
  },
  {
   "cell_type": "markdown",
   "metadata": {},
   "source": [
    "# Control flow in pass managers"
   ]
  },
  {
   "cell_type": "markdown",
   "metadata": {},
   "source": [
    "## Conditional"
   ]
  },
  {
   "cell_type": "code",
   "execution_count": null,
   "metadata": {},
   "outputs": [],
   "source": [
    "# Same circuit as before\n",
    "qr = QuantumRegister(5, 'q')\n",
    "cr = ClassicalRegister(2, 'c')\n",
    "circuit = QuantumCircuit(qr, cr)\n",
    "circuit.h(qr[0])\n",
    "circuit.cx(qr[0], qr[4])\n",
    "circuit.measure(qr[0], cr[0])\n",
    "circuit.measure(qr[4], cr[1])\n",
    "\n",
    "layout = Layout({qr[0]: 0,\n",
    "                 qr[1]: 4,\n",
    "                 qr[2]: 2,\n",
    "                 qr[3]: 3,\n",
    "                 qr[4]: 1})\n",
    "\n",
    "pm = PassManager(SetLayout(layout))\n",
    "pm.append([CheckMap(coupling_map), CheckCXDirection(coupling_map)])\n",
    "circuit = pm.run(circuit)\n",
    "print(coupling_map)\n",
    "print('right qubits?', pm.property_set['is_swap_mapped'])\n",
    "print('right direction?', pm.property_set['is_direction_mapped'])\n",
    "\n",
    "circuit = pm.run(circuit)\n",
    "circuit.draw()"
   ]
  },
  {
   "cell_type": "code",
   "execution_count": null,
   "metadata": {},
   "outputs": [],
   "source": [
    "# Try different layouts and observe the results\n",
    "layout = Layout({qr[0]: 0,\n",
    "                 qr[1]: 4,\n",
    "                 qr[2]: 2,\n",
    "                 qr[3]: 3,\n",
    "                 qr[4]: 1})\n",
    "\n",
    "pm = PassManager(SetLayout(layout))\n",
    "pm.append([CheckMap(coupling_map), CheckCXDirection(coupling_map)])\n",
    "pm.append(BasicSwap(coupling_map), condition=lambda property_set: not property_set['is_swap_mapped'])\n",
    "pm.append([Decompose(SwapGate), CXDirection(coupling_map)],\n",
    "          condition=lambda property_set: not property_set['is_direction_mapped'])\n",
    "\n",
    "circuit_after = pm.run(circuit)\n",
    "circuit_after.draw()"
   ]
  },
  {
   "cell_type": "markdown",
   "metadata": {},
   "source": [
    "## Do-while loop"
   ]
  },
  {
   "cell_type": "code",
   "execution_count": null,
   "metadata": {},
   "outputs": [],
   "source": [
    "qr = QuantumRegister(4, 'q')\n",
    "circuit = QuantumCircuit(qr)\n",
    "circuit.h(qr)\n",
    "circuit.cx(qr[0], qr[3])\n",
    "circuit.cx(qr[0], qr[2])\n",
    "circuit.cx(qr[0], qr[1])\n",
    "circuit.cx(qr[0], qr[1])\n",
    "circuit.h(qr[1])\n",
    "circuit.cx(qr[0], qr[2])\n",
    "circuit.h(qr[2])\n",
    "circuit.cx(qr[0], qr[3])\n",
    "circuit.h(qr[0])\n",
    "circuit.h(qr[3])\n",
    "circuit.draw()"
   ]
  },
  {
   "cell_type": "code",
   "execution_count": null,
   "metadata": {
    "scrolled": true
   },
   "outputs": [],
   "source": [
    "pm = PassManager()\n",
    "pm.append(CXCancellation())\n",
    "pm.run(circuit).draw()"
   ]
  },
  {
   "cell_type": "code",
   "execution_count": null,
   "metadata": {},
   "outputs": [],
   "source": [
    "pm = PassManager()\n",
    "pm.append([CXCancellation(), Depth(), FixedPoint('depth')],\n",
    "         do_while=lambda property_set: not property_set['depth_fixed_point'])\n",
    "pm.run(circuit).draw()"
   ]
  },
  {
   "cell_type": "code",
   "execution_count": null,
   "metadata": {},
   "outputs": [],
   "source": [
    "# Can you reduce this circuit to the minimum depth?\n",
    "qr = QuantumRegister(4, 'q')\n",
    "circuit = QuantumCircuit(qr)\n",
    "circuit.h(qr)\n",
    "circuit.cx(qr[0], qr[3])\n",
    "circuit.cx(qr[0], qr[2])\n",
    "circuit.h(qr[1:3])\n",
    "circuit.cx(qr[0], qr[1])\n",
    "circuit.cx(qr[0], qr[1])\n",
    "circuit.h(qr[1:3])\n",
    "circuit.h(qr[1])\n",
    "circuit.cx(qr[0], qr[2])\n",
    "circuit.h(qr[2])\n",
    "circuit.cx(qr[0], qr[3])\n",
    "circuit.h(qr[0])\n",
    "circuit.h(qr[3])\n",
    "circuit.draw()\n",
    "from qiskit.transpiler import passes\n",
    "[pass_ for pass_ in dir(passes) if pass_[0].isupper()]"
   ]
  },
  {
   "cell_type": "markdown",
   "metadata": {},
   "source": [
    "# Optimization levels (preset pass managers)"
   ]
  },
  {
   "cell_type": "code",
   "execution_count": null,
   "metadata": {},
   "outputs": [],
   "source": [
    "import math\n",
    "cmap = CouplingMap([[0, 1], [0, 5], [1, 0], [1, 2], [1, 6], [2, 1],\n",
    "                [2, 3], [2, 6], [3, 2], [3, 8], [3, 9], [4, 8], [4, 9],\n",
    "                [5, 0], [5, 6], [5, 10], [5, 11], [6, 1], [6, 2], [6, 5],\n",
    "                [6, 7], [6, 10], [6, 11], [7, 1], [7, 6], [7, 8], [7, 12],\n",
    "                [7, 13], [8, 3], [8, 4], [8, 7], [8, 9], [8, 12], [8, 13],\n",
    "                [9, 3], [9, 4], [9, 8], [10, 5], [10, 6], [10, 11], [10, 15],\n",
    "                [11, 5], [11, 6], [11, 10], [11, 12], [11, 16], [11, 17],\n",
    "                [12, 7], [12, 8], [12, 11], [12, 13], [12, 16], [13, 7],\n",
    "                [13, 8], [13, 12], [13, 14], [13, 18], [13, 19], [14, 13],\n",
    "                [14, 18], [14, 19], [15, 10], [15, 16], [16, 11], [16, 12],\n",
    "                [16, 15], [16, 17], [17, 11], [17, 16], [18, 13], [18, 14],\n",
    "                [19, 13], [19, 14]]) # Tokyo backend\n",
    "qr = QuantumRegister(10,'q')\n",
    "qc = QuantumCircuit(qr)\n",
    "random_state = [\n",
    "    1 / math.sqrt(4) * complex(0, 1),\n",
    "    1 / math.sqrt(8) * complex(1, 0),\n",
    "    0,\n",
    "    0,\n",
    "    0,\n",
    "    0,\n",
    "    0,\n",
    "    0,\n",
    "    1 / math.sqrt(8) * complex(1, 0),\n",
    "    1 / math.sqrt(8) * complex(0, 1),\n",
    "    0,\n",
    "    0,\n",
    "    0,\n",
    "    0,\n",
    "    1 / math.sqrt(4) * complex(1, 0),\n",
    "    1 / math.sqrt(8) * complex(1, 0)]\n",
    "qc.initialize(random_state, qr[0:4])\n",
    "pm = PassManager(Unroller(basis_gates))\n",
    "pm.append([CheckMap(cmap), CheckCXDirection(cmap)])\n",
    "qc_original = pm.run(qc)\n",
    "print('right qubits?', pm.property_set['is_swap_mapped'])\n",
    "print('right direction?', pm.property_set['is_direction_mapped'])\n",
    "print('gates = ', qc_original.count_ops())\n",
    "print('depth = ', qc_original.depth())\n",
    "qc_original.draw()"
   ]
  },
  {
   "cell_type": "code",
   "execution_count": null,
   "metadata": {},
   "outputs": [],
   "source": [
    "optimized_0 = transpile(qc,\n",
    "                        coupling_map=cmap,\n",
    "                        basis_gates=basis_gates,\n",
    "                        seed_transpiler=11,\n",
    "                        optimization_level=0)\n",
    "# check_mapper(optimized_0, cmap)\n",
    "print('gates = ', optimized_0.count_ops())\n",
    "print('depth = ', optimized_0.depth())\n",
    "optimized_0.draw()"
   ]
  },
  {
   "cell_type": "code",
   "execution_count": null,
   "metadata": {},
   "outputs": [],
   "source": [
    "optimized_1 = transpile(qc,\n",
    "                        coupling_map=cmap,\n",
    "                        basis_gates=basis_gates,\n",
    "                        seed_transpiler=11,\n",
    "                        optimization_level=1)\n",
    "check_mapper(optimized_1, cmap)\n",
    "print('gates = ', optimized_1.count_ops())\n",
    "print('depth = ', optimized_1.depth())\n",
    "optimized_1.draw()"
   ]
  },
  {
   "cell_type": "code",
   "execution_count": null,
   "metadata": {},
   "outputs": [],
   "source": [
    "optimized_2 = transpile(qc,\n",
    "                        coupling_map=cmap,\n",
    "                        basis_gates=basis_gates,\n",
    "                        seed_transpiler=42,\n",
    "                        optimization_level=2)\n",
    "check_mapper(optimized_2, cmap)\n",
    "print('gates = ', optimized_2.count_ops())\n",
    "print('depth = ', optimized_2.depth())\n",
    "optimized_2.draw()"
   ]
  },
  {
   "cell_type": "code",
   "execution_count": null,
   "metadata": {},
   "outputs": [],
   "source": [
    "optimized_3 = transpile(qc,\n",
    "                        coupling_map=cmap,\n",
    "                        basis_gates=basis_gates,\n",
    "                        seed_transpiler=42,\n",
    "                        optimization_level=3)\n",
    "check_mapper(optimized_3, cmap)\n",
    "print('gates = ', optimized_3.count_ops())\n",
    "print('depth = ', optimized_3.depth())\n",
    "optimized_3.draw()"
   ]
  }
 ],
 "metadata": {
  "kernelspec": {
   "display_name": "Python 3",
   "language": "python",
   "name": "python3"
  },
  "language_info": {
   "codemirror_mode": {
    "name": "ipython",
    "version": 3
   },
   "file_extension": ".py",
   "mimetype": "text/x-python",
   "name": "python",
   "nbconvert_exporter": "python",
   "pygments_lexer": "ipython3",
   "version": "3.5.6"
  }
 },
 "nbformat": 4,
 "nbformat_minor": 2
}
