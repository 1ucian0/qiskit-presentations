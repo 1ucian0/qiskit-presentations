{
 "cells": [
  {
   "cell_type": "markdown",
   "metadata": {},
   "source": [
    "<div  style=\"background-color:white;\">\n",
    "<img src=\"images/banner.jpg\"  width=\"500 px\" align=\"left\"> </div>"
   ]
  },
  {
   "cell_type": "markdown",
   "metadata": {},
   "source": [
    "# Qiskit in TechCrunch"
   ]
  },
  {
   "cell_type": "code",
   "execution_count": 1,
   "metadata": {},
   "outputs": [
    {
     "name": "stdout",
     "output_type": "stream",
     "text": [
      "Hello TechCrunch .... \n"
     ]
    }
   ],
   "source": [
    "from techcrunch_keynote import *"
   ]
  },
  {
   "cell_type": "code",
   "execution_count": 2,
   "metadata": {},
   "outputs": [
    {
     "data": {
      "text/html": [
       "<img src=\"images/superposition.gif\" width=\"1000 px\" class=\"jp-mod-unconfined\" style=\"display: block;margin-left: auto; margin-right: auto;\" ></img>"
      ],
      "text/plain": [
       "<IPython.core.display.HTML object>"
      ]
     },
     "execution_count": 2,
     "metadata": {},
     "output_type": "execute_result"
    }
   ],
   "source": [
    "superposition()"
   ]
  },
  {
   "cell_type": "code",
   "execution_count": 3,
   "metadata": {},
   "outputs": [
    {
     "data": {
      "text/html": [
       "<img src=\"images/entenglemant.gif\" width=\"1000 px\" class=\"jp-mod-unconfined\" style=\"display: block;margin-left: auto; margin-right: auto;\" ></img>"
      ],
      "text/plain": [
       "<IPython.core.display.HTML object>"
      ]
     },
     "execution_count": 3,
     "metadata": {},
     "output_type": "execute_result"
    }
   ],
   "source": [
    "entanglement()"
   ]
  },
  {
   "cell_type": "code",
   "execution_count": 4,
   "metadata": {},
   "outputs": [
    {
     "data": {
      "text/html": [
       "<img src=\"images/interference.gif\" width=\"1000 px\" class=\"jp-mod-unconfined\" style=\"display: block;margin-left: auto; margin-right: auto;\" ></img>"
      ],
      "text/plain": [
       "<IPython.core.display.HTML object>"
      ]
     },
     "execution_count": 4,
     "metadata": {},
     "output_type": "execute_result"
    }
   ],
   "source": [
    "interference()"
   ]
  },
  {
   "cell_type": "code",
   "execution_count": 5,
   "metadata": {},
   "outputs": [
    {
     "data": {
      "text/html": [
       "<img src=\"images/algorithm.jpg\" width=\"1000 px\" class=\"jp-mod-unconfined\" style=\"display: block;margin-left: auto; margin-right: auto;\" ></img>"
      ],
      "text/plain": [
       "<IPython.core.display.HTML object>"
      ]
     },
     "execution_count": 5,
     "metadata": {},
     "output_type": "execute_result"
    }
   ],
   "source": [
    "algorithm()"
   ]
  },
  {
   "cell_type": "code",
   "execution_count": 6,
   "metadata": {},
   "outputs": [
    {
     "data": {
      "text/html": [
       "<img src=\"images/quantum_lab.jpg\" width=\"1000 px\" class=\"jp-mod-unconfined\" style=\"display: block;margin-left: auto; margin-right: auto;\" ></img>"
      ],
      "text/plain": [
       "<IPython.core.display.HTML object>"
      ]
     },
     "execution_count": 6,
     "metadata": {},
     "output_type": "execute_result"
    }
   ],
   "source": [
    "quantum_computer()"
   ]
  },
  {
   "cell_type": "code",
   "execution_count": 7,
   "metadata": {},
   "outputs": [
    {
     "data": {
      "text/html": [
       "<img src=\"images/quantum-computer.jpg\" width=\"1000 px\" class=\"jp-mod-unconfined\" style=\"display: block;margin-left: auto; margin-right: auto;\" ></img>"
      ],
      "text/plain": [
       "<IPython.core.display.HTML object>"
      ]
     },
     "execution_count": 7,
     "metadata": {},
     "output_type": "execute_result"
    }
   ],
   "source": [
    "quantum_computer_inside()"
   ]
  },
  {
   "cell_type": "code",
   "execution_count": 8,
   "metadata": {},
   "outputs": [
    {
     "data": {
      "text/html": [
       "<img src=\"images/quantum_chip.jpg\" width=\"1000 px\" class=\"jp-mod-unconfined\" style=\"display: block;margin-left: auto; margin-right: auto;\" ></img>"
      ],
      "text/plain": [
       "<IPython.core.display.HTML object>"
      ]
     },
     "execution_count": 8,
     "metadata": {},
     "output_type": "execute_result"
    }
   ],
   "source": [
    "quantum_chip()"
   ]
  },
  {
   "cell_type": "code",
   "execution_count": 9,
   "metadata": {},
   "outputs": [
    {
     "data": {
      "text/html": [
       "<img src=\"images/quantum_chip_detail.jpg\" width=\"1000 px\" class=\"jp-mod-unconfined\" style=\"display: block;margin-left: auto; margin-right: auto;\" ></img>"
      ],
      "text/plain": [
       "<IPython.core.display.HTML object>"
      ]
     },
     "execution_count": 9,
     "metadata": {},
     "output_type": "execute_result"
    }
   ],
   "source": [
    "quantum_chip_detail()"
   ]
  },
  {
   "cell_type": "code",
   "execution_count": 10,
   "metadata": {},
   "outputs": [
    {
     "data": {
      "text/html": [
       "<img src=\"images/quantum_qubit.jpg\" width=\"1000 px\" class=\"jp-mod-unconfined\" style=\"display: block;margin-left: auto; margin-right: auto;\" ></img>"
      ],
      "text/plain": [
       "<IPython.core.display.HTML object>"
      ]
     },
     "execution_count": 10,
     "metadata": {},
     "output_type": "execute_result"
    }
   ],
   "source": [
    "quantum_qubit()"
   ]
  },
  {
   "cell_type": "code",
   "execution_count": 11,
   "metadata": {},
   "outputs": [
    {
     "data": {
      "text/html": [
       "<video src=\"videos/IBMQlab.mp4\" width=\"1000 px\" autoplay loop muted style=\"display: block;margin-left: auto; margin-right: auto;\" ></video>"
      ],
      "text/plain": [
       "<IPython.core.display.HTML object>"
      ]
     },
     "execution_count": 11,
     "metadata": {},
     "output_type": "execute_result"
    }
   ],
   "source": [
    "lab()"
   ]
  },
  {
   "cell_type": "code",
   "execution_count": 12,
   "metadata": {},
   "outputs": [
    {
     "data": {
      "text/html": [
       "<img src=\"images/SVM.gif\" width=\"1000 px\" class=\"jp-mod-unconfined\" style=\"display: block;margin-left: auto; margin-right: auto;\" ></img><img src=\"images/QML1.jpg\" width=\"1000 px\" class=\"jp-mod-unconfined\" style=\"display: block;margin-left: auto; margin-right: auto;\" ></img>"
      ],
      "text/plain": [
       "<IPython.core.display.HTML object>"
      ]
     },
     "execution_count": 12,
     "metadata": {},
     "output_type": "execute_result"
    }
   ],
   "source": [
    "how_works()"
   ]
  },
  {
   "cell_type": "code",
   "execution_count": 13,
   "metadata": {},
   "outputs": [
    {
     "data": {
      "text/html": [
       "<img src=\"images/implementation.jpg\" width=\"1000 px\" class=\"jp-mod-unconfined\" style=\"display: block;margin-left: auto; margin-right: auto;\" ></img>"
      ],
      "text/plain": [
       "<IPython.core.display.HTML object>"
      ]
     },
     "execution_count": 13,
     "metadata": {},
     "output_type": "execute_result"
    }
   ],
   "source": [
    "implementation()"
   ]
  },
  {
   "cell_type": "code",
   "execution_count": 14,
   "metadata": {},
   "outputs": [
    {
     "data": {
      "text/html": [
       "\n",
       "    <pre>\n",
       "# setup the circuit\n",
       "q = QuantumRegister(\"q\", n)\n",
       "c = ClassicalRegister(\"c\", n)\n",
       "trial_circuit = QuantumCircuit(q, c)\n",
       "\n",
       "# 0: Set the qubits in superposition\n",
       "for r in range(len(x_vec1)):\n",
       "    trial_circuit.h(q[r])\n",
       "    trial_circuit.u1(2*x_vec1[r], q[r])\n",
       "\n",
       "# 1: Using entanglement,map the training data to a quantum feature map\n",
       "for node in entangler_map:\n",
       "    for j in entangler_map[node]:\n",
       "        trial_circuit.cx(q[node], q[j])\n",
       "        trial_circuit.u1(2*(np.pi-x_vec1[node])*(np.pi-x_vec1[j]), q[j])\n",
       "        trial_circuit.cx(q[node], q[j])\n",
       "\n",
       "# 2: Train the quantum classifier by updating the quantum network.\n",
       "trial_circuit.barrier(q)\n",
       "\n",
       "for r in range(len(x_vec1)):\n",
       "    trial_circuit.ry(theta[2*r],q[r])\n",
       "    trial_circuit.rz(theta[2*r+1],q[r])\n",
       "\n",
       "for i in range(m):\n",
       "    for node in entangler_map:\n",
       "        for j in entangler_map[node]:\n",
       "            trial_circuit.cz(q[node], q[j])\n",
       "    for j in entangler_map[node]:\n",
       "        trial_circuit.ry(theta[n * ( i + 1 ) * 2 + 2 * j],q[j])\n",
       "        trial_circuit.rz(theta[n * ( i + 1 ) * 2 + 2 * j + 1],q[j])\n",
       "\n",
       "trial_circuit.barrier(q)\n",
       "\n",
       "if measurement:\n",
       "    for j in range(n):\n",
       "        trial_circuit.measurement(q[j],c[j])\n",
       "\n",
       "    </pre>\n",
       "    "
      ],
      "text/plain": [
       "<IPython.core.display.HTML object>"
      ]
     },
     "execution_count": 14,
     "metadata": {},
     "output_type": "execute_result"
    }
   ],
   "source": [
    "qiskit_code()"
   ]
  },
  {
   "cell_type": "code",
   "execution_count": 15,
   "metadata": {},
   "outputs": [
    {
     "data": {
      "text/html": [
       "<img src=\"images/QML3.jpg\" width=\"1000 px\" class=\"jp-mod-unconfined\" style=\"display: block;margin-left: auto; margin-right: auto;\" ></img>"
      ],
      "text/plain": [
       "<IPython.core.display.HTML object>"
      ]
     },
     "execution_count": 15,
     "metadata": {},
     "output_type": "execute_result"
    }
   ],
   "source": [
    "quantum_improve()"
   ]
  },
  {
   "cell_type": "code",
   "execution_count": 16,
   "metadata": {},
   "outputs": [
    {
     "data": {
      "text/html": [
       "\n",
       "        <pre>\n",
       "\n",
       "        ------ >>> 🐱 <<< ------\n",
       "        ------------------------\n",
       "        Sending to execute  🚀🚀\n",
       "        ------------------------\n",
       "        Waiting for results ⏱⏱\n",
       "        ------------------------\n",
       "        Using local simulator ⚗️️️️️\n",
       "        </pre>"
      ],
      "text/plain": [
       "<IPython.core.display.HTML object>"
      ]
     },
     "execution_count": 16,
     "metadata": {},
     "output_type": "execute_result"
    }
   ],
   "source": [
    "AI_execution(\"🐱\")"
   ]
  },
  {
   "cell_type": "code",
   "execution_count": 17,
   "metadata": {},
   "outputs": [
    {
     "data": {
      "text/html": [
       "\n",
       "        <pre>\n",
       "        -----------------------------------\n",
       "        Predicted label is B = \"cat\"\n",
       "        Classification success is 100 %\n",
       "        -----------------------------------\n",
       "        -----------------------------------\n",
       "        testing success ratio:  1.0\n",
       "        predicted labels: ['B', 'B', 'B', 'B']\n",
       "        -----------------------------------\n",
       "        ⏰ execution time: 1.2080960273742676\n",
       "        -----------------------------------\n",
       "        </pre>\n",
       "        </br>\n",
       "        </br>\n",
       "        <img src=\"images/qcat.jpg\" width=\"500 px\" class=\"jp-mod-unconfined\" style=\"display: block;margin-left: auto; margin-right: auto;\" ></img>"
      ],
      "text/plain": [
       "<IPython.core.display.HTML object>"
      ]
     },
     "execution_count": 17,
     "metadata": {},
     "output_type": "execute_result"
    }
   ],
   "source": [
    "AI_result()"
   ]
  },
  {
   "cell_type": "code",
   "execution_count": 18,
   "metadata": {},
   "outputs": [
    {
     "data": {
      "text/html": [
       "\n",
       "        <pre>\n",
       "\n",
       "        ------ >>> 🐶 <<< ------\n",
       "        ------------------------\n",
       "        Sending to execute  🚀🚀\n",
       "        ------------------------\n",
       "        Waiting for results ⏱⏱\n",
       "        ------------------------\n",
       "        Using local simulator ⚗️️️️️\n",
       "        </pre>"
      ],
      "text/plain": [
       "<IPython.core.display.HTML object>"
      ]
     },
     "execution_count": 18,
     "metadata": {},
     "output_type": "execute_result"
    }
   ],
   "source": [
    "AI_execution(\"🐶\")"
   ]
  },
  {
   "cell_type": "code",
   "execution_count": 19,
   "metadata": {},
   "outputs": [
    {
     "data": {
      "text/html": [
       "\n",
       "        <pre>\n",
       "        -----------------------------------\n",
       "        Predicted label is A = \"dog\"\n",
       "        Classification success is 100 %\n",
       "        -----------------------------------\n",
       "        -----------------------------------\n",
       "        testing success ratio:  1.0\n",
       "        predicted labels: ['A', 'A', 'A', 'A']\n",
       "        -----------------------------------\n",
       "        ⏰ execution time: 0.9636397361755371\n",
       "        -----------------------------------\n",
       "        </pre>\n",
       "        </br>\n",
       "        </br>\n",
       "        <img src=\"images/qdog.jpg\" width=\"500 px\" class=\"jp-mod-unconfined\" style=\"display: block;margin-left: auto; margin-right: auto;\" ></img>"
      ],
      "text/plain": [
       "<IPython.core.display.HTML object>"
      ]
     },
     "execution_count": 19,
     "metadata": {},
     "output_type": "execute_result"
    }
   ],
   "source": [
    "AI_result()"
   ]
  },
  {
   "cell_type": "code",
   "execution_count": 20,
   "metadata": {},
   "outputs": [
    {
     "data": {
      "text/html": [
       "<img src=\"images/papers.jpg\" width=\"1000 px\" class=\"jp-mod-unconfined\" style=\"display: block;margin-left: auto; margin-right: auto;\" ></img>"
      ],
      "text/plain": [
       "<IPython.core.display.HTML object>"
      ]
     },
     "execution_count": 20,
     "metadata": {},
     "output_type": "execute_result"
    }
   ],
   "source": [
    "papers()"
   ]
  },
  {
   "cell_type": "code",
   "execution_count": 26,
   "metadata": {},
   "outputs": [
    {
     "data": {
      "text/html": [
       "<a href=\"https://quantumexperience.ng.bluemix.net\" target=\"_blank\" class=\"jp-mod-unconfined\" class=\"jp-mod-unconfined\" style=\"display: block;margin-left: auto; margin-right: auto;\" ><img src=\"images/QX.gif\" width=\"1000 px\" class=\"jp-mod-unconfined\" style=\"display: block;margin-left: auto; margin-right: auto;\" ></img></a>"
      ],
      "text/plain": [
       "<IPython.core.display.HTML object>"
      ]
     },
     "execution_count": 26,
     "metadata": {},
     "output_type": "execute_result"
    }
   ],
   "source": [
    "qx()"
   ]
  },
  {
   "cell_type": "code",
   "execution_count": 22,
   "metadata": {},
   "outputs": [
    {
     "data": {
      "text/html": [
       "<img src=\"images/executions-QX-complete.gif\" width=\"1000 px\" class=\"jp-mod-unconfined\" style=\"display: block;margin-left: auto; margin-right: auto;\" ></img>"
      ],
      "text/plain": [
       "<IPython.core.display.HTML object>"
      ]
     },
     "execution_count": 22,
     "metadata": {},
     "output_type": "execute_result"
    }
   ],
   "source": [
    "executions()"
   ]
  },
  {
   "cell_type": "code",
   "execution_count": 23,
   "metadata": {},
   "outputs": [
    {
     "data": {
      "text/html": [
       "<iframe src=\"https://qiskit.org\" width=\"1000 px\" height=\"800 px\" frameborder=\"0\" allow=\"autoplay; encrypted-media\" allowfullscreen class=\"jp-mod-unconfined\" style=\"display: block;margin-left: auto; margin-right: auto;\" ></ifr>"
      ],
      "text/plain": [
       "<IPython.core.display.HTML object>"
      ]
     },
     "execution_count": 23,
     "metadata": {},
     "output_type": "execute_result"
    }
   ],
   "source": [
    "qiskit()"
   ]
  },
  {
   "cell_type": "code",
   "execution_count": 24,
   "metadata": {
    "scrolled": false
   },
   "outputs": [
    {
     "data": {
      "text/html": [
       "<video src=\"videos/community.mp4\" width=\"1000 px\" autoplay loop muted style=\"display: block;margin-left: auto; margin-right: auto;\" ></video>"
      ],
      "text/plain": [
       "<IPython.core.display.HTML object>"
      ]
     },
     "execution_count": 24,
     "metadata": {},
     "output_type": "execute_result"
    }
   ],
   "source": [
    "community()"
   ]
  },
  {
   "cell_type": "code",
   "execution_count": 25,
   "metadata": {
    "scrolled": false
   },
   "outputs": [
    {
     "data": {
      "text/html": [
       "<img src=\"images/thinking.jpg\" width=\"1000 px\" class=\"jp-mod-unconfined\" style=\"display: block;margin-left: auto; margin-right: auto;\" ></img>"
      ],
      "text/plain": [
       "<IPython.core.display.HTML object>"
      ]
     },
     "execution_count": 25,
     "metadata": {},
     "output_type": "execute_result"
    }
   ],
   "source": [
    "thinking()"
   ]
  },
  {
   "cell_type": "markdown",
   "metadata": {},
   "source": [
    "Follow us in [qiskit.org](http://qiskit.org)"
   ]
  }
 ],
 "metadata": {
  "kernelspec": {
   "display_name": "Python 3",
   "language": "python",
   "name": "python3"
  },
  "language_info": {
   "codemirror_mode": {
    "name": "ipython",
    "version": 3
   },
   "file_extension": ".py",
   "mimetype": "text/x-python",
   "name": "python",
   "nbconvert_exporter": "python",
   "pygments_lexer": "ipython3",
   "version": "3.6.2"
  }
 },
 "nbformat": 4,
 "nbformat_minor": 2
}
