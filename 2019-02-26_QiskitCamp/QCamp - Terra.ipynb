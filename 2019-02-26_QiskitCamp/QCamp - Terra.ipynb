{
 "cells": [
  {
   "cell_type": "markdown",
   "metadata": {
    "slideshow": {
     "slide_type": "slide"
    }
   },
   "source": [
    "![Qiskit](https://github.com/Qiskit/qiskit-tutorials/raw/115c78962dda85bac29d679063b7d0d0ab1d1ab4/images/qiskit-heading.gif)"
   ]
  },
  {
   "cell_type": "markdown",
   "metadata": {
    "slideshow": {
     "slide_type": "-"
    }
   },
   "source": [
    "# Qcamp - Terra\n",
    "## IBMQ\n",
    "### Donny Greenberg, Kevin Krsulich and Thomas Alexander\n"
   ]
  },
  {
   "cell_type": "markdown",
   "metadata": {
    "slideshow": {
     "slide_type": "slide"
    }
   },
   "source": [
    "# Gameplan\n",
    "\n",
    "* Basics\n",
    "  * What is Terra?\n",
    "  * Teleportation\n",
    "  * QPE a few ways\n",
    "* Browsing device info\n",
    "* Tips and tricks\n",
    "* Learning More, Resources"
   ]
  },
  {
   "cell_type": "markdown",
   "metadata": {
    "slideshow": {
     "slide_type": "slide"
    }
   },
   "source": [
    "# What is Terra?\n",
    "\n",
    "Terra’s core service is the compilation and execution of Quantum circuits for arbitrary backends, and shipping jobs to backends\n",
    "  * It includes operations for circuit construction, including loading QASM\n",
    "  * Terra can take the same circuit object and compile and run it on any Quantum hardware or simulator\n",
    "  * Local simulators are included in Terra and Aer\n",
    "  * Terra has IBM Q API connections built in - it will send your job to your desired backend and collect the results"
   ]
  },
  {
   "cell_type": "markdown",
   "metadata": {
    "slideshow": {
     "slide_type": "skip"
    }
   },
   "source": [
    "Keep in mind:\n",
    "\n",
    "  * Terra is not a language per se, but more of a large piece of infrastructure.\n",
    "  * Qiskit is very much a work in progress. It is changing rapidly to converge toward the needs of its users. We welcome development suggestions and help!\n",
    "  * See our Github (https://github.com/Qiskit/qiskit-terra)."
   ]
  },
  {
   "cell_type": "markdown",
   "metadata": {
    "slideshow": {
     "slide_type": "slide"
    }
   },
   "source": [
    "In the future, Terra will include:\n",
    "\n",
    "  * OpenPulse, pulse level control of IBM Quantum Hardware (find Thomas and ask him about it!)\n",
    "  * More sophisticated circuit builder interface for constructing and composing large circuits (find Kevin and ask him about it!)"
   ]
  },
  {
   "cell_type": "markdown",
   "metadata": {
    "slideshow": {
     "slide_type": "slide"
    }
   },
   "source": [
    "But first, install Terra:"
   ]
  },
  {
   "cell_type": "code",
   "execution_count": 13,
   "metadata": {
    "ExecuteTime": {
     "end_time": "2019-02-25T21:01:37.541894Z",
     "start_time": "2019-02-25T21:01:37.536659Z"
    },
    "slideshow": {
     "slide_type": "fragment"
    }
   },
   "outputs": [
    {
     "name": "stdout",
     "output_type": "stream",
     "text": [
      "Requirement already satisfied: qiskit in /Users/talexander/anaconda3/envs/qiskit/lib/python3.6/site-packages (0.7.0)\n",
      "Requirement already satisfied: qiskit-terra<0.8,>=0.7 in /Users/talexander/anaconda3/envs/qiskit/lib/python3.6/site-packages (from qiskit) (0.7.0)\n",
      "Requirement already satisfied: qiskit-aer<0.2,>=0.1 in /Users/talexander/anaconda3/envs/qiskit/lib/python3.6/site-packages (from qiskit) (0.1.0)\n",
      "Requirement already satisfied: networkx>=2.2 in /Users/talexander/anaconda3/envs/qiskit/lib/python3.6/site-packages (from qiskit-terra<0.8,>=0.7->qiskit) (2.2)\n",
      "Requirement already satisfied: psutil>=5 in /Users/talexander/anaconda3/envs/qiskit/lib/python3.6/site-packages (from qiskit-terra<0.8,>=0.7->qiskit) (5.4.8)\n",
      "Requirement already satisfied: requests-ntlm>=1.1.0 in /Users/talexander/anaconda3/envs/qiskit/lib/python3.6/site-packages (from qiskit-terra<0.8,>=0.7->qiskit) (1.1.0)\n",
      "Requirement already satisfied: scipy!=0.19.1,>=0.19 in /Users/talexander/anaconda3/envs/qiskit/lib/python3.6/site-packages (from qiskit-terra<0.8,>=0.7->qiskit) (1.1.0)\n",
      "Requirement already satisfied: pillow>=4.2.1 in /Users/talexander/anaconda3/envs/qiskit/lib/python3.6/site-packages (from qiskit-terra<0.8,>=0.7->qiskit) (5.3.0)\n",
      "Requirement already satisfied: numpy>=1.13 in /Users/talexander/anaconda3/envs/qiskit/lib/python3.6/site-packages (from qiskit-terra<0.8,>=0.7->qiskit) (1.15.4)\n",
      "Requirement already satisfied: sympy>=1.3 in /Users/talexander/anaconda3/envs/qiskit/lib/python3.6/site-packages (from qiskit-terra<0.8,>=0.7->qiskit) (1.3)\n",
      "Requirement already satisfied: ply>=3.10 in /Users/talexander/anaconda3/envs/qiskit/lib/python3.6/site-packages (from qiskit-terra<0.8,>=0.7->qiskit) (3.11)\n",
      "Requirement already satisfied: jsonschema<2.7,>=2.6 in /Users/talexander/anaconda3/envs/qiskit/lib/python3.6/site-packages (from qiskit-terra<0.8,>=0.7->qiskit) (2.6.0)\n",
      "Requirement already satisfied: marshmallow<3,>=2.16.3 in /Users/talexander/anaconda3/envs/qiskit/lib/python3.6/site-packages (from qiskit-terra<0.8,>=0.7->qiskit) (2.17.0)\n",
      "Requirement already satisfied: marshmallow-polyfield<4,>=3.2 in /Users/talexander/anaconda3/envs/qiskit/lib/python3.6/site-packages (from qiskit-terra<0.8,>=0.7->qiskit) (3.2)\n",
      "Requirement already satisfied: requests>=2.19 in /Users/talexander/anaconda3/envs/qiskit/lib/python3.6/site-packages (from qiskit-terra<0.8,>=0.7->qiskit) (2.20.1)\n",
      "Requirement already satisfied: decorator>=4.3.0 in /Users/talexander/anaconda3/envs/qiskit/lib/python3.6/site-packages (from networkx>=2.2->qiskit-terra<0.8,>=0.7->qiskit) (4.3.0)\n",
      "Requirement already satisfied: ntlm-auth>=1.0.2 in /Users/talexander/anaconda3/envs/qiskit/lib/python3.6/site-packages (from requests-ntlm>=1.1.0->qiskit-terra<0.8,>=0.7->qiskit) (1.2.0)\n",
      "Requirement already satisfied: cryptography>=1.3 in /Users/talexander/anaconda3/envs/qiskit/lib/python3.6/site-packages (from requests-ntlm>=1.1.0->qiskit-terra<0.8,>=0.7->qiskit) (2.4.1)\n",
      "Requirement already satisfied: mpmath>=0.19 in /Users/talexander/anaconda3/envs/qiskit/lib/python3.6/site-packages (from sympy>=1.3->qiskit-terra<0.8,>=0.7->qiskit) (1.0.0)\n",
      "Requirement already satisfied: idna<2.8,>=2.5 in /Users/talexander/anaconda3/envs/qiskit/lib/python3.6/site-packages (from requests>=2.19->qiskit-terra<0.8,>=0.7->qiskit) (2.7)\n",
      "Requirement already satisfied: chardet<3.1.0,>=3.0.2 in /Users/talexander/anaconda3/envs/qiskit/lib/python3.6/site-packages (from requests>=2.19->qiskit-terra<0.8,>=0.7->qiskit) (3.0.4)\n",
      "Requirement already satisfied: urllib3<1.25,>=1.21.1 in /Users/talexander/anaconda3/envs/qiskit/lib/python3.6/site-packages (from requests>=2.19->qiskit-terra<0.8,>=0.7->qiskit) (1.24.1)\n",
      "Requirement already satisfied: certifi>=2017.4.17 in /Users/talexander/anaconda3/envs/qiskit/lib/python3.6/site-packages (from requests>=2.19->qiskit-terra<0.8,>=0.7->qiskit) (2018.11.29)\n",
      "Requirement already satisfied: cffi!=1.11.3,>=1.7 in /Users/talexander/anaconda3/envs/qiskit/lib/python3.6/site-packages (from cryptography>=1.3->requests-ntlm>=1.1.0->qiskit-terra<0.8,>=0.7->qiskit) (1.11.5)\n",
      "Requirement already satisfied: asn1crypto>=0.21.0 in /Users/talexander/anaconda3/envs/qiskit/lib/python3.6/site-packages (from cryptography>=1.3->requests-ntlm>=1.1.0->qiskit-terra<0.8,>=0.7->qiskit) (0.24.0)\n",
      "Requirement already satisfied: six>=1.4.1 in /Users/talexander/anaconda3/envs/qiskit/lib/python3.6/site-packages (from cryptography>=1.3->requests-ntlm>=1.1.0->qiskit-terra<0.8,>=0.7->qiskit) (1.11.0)\n",
      "Requirement already satisfied: pycparser in /Users/talexander/anaconda3/envs/qiskit/lib/python3.6/site-packages (from cffi!=1.11.3,>=1.7->cryptography>=1.3->requests-ntlm>=1.1.0->qiskit-terra<0.8,>=0.7->qiskit) (2.19)\n"
     ]
    }
   ],
   "source": [
    "!pip install qiskit"
   ]
  },
  {
   "cell_type": "markdown",
   "metadata": {
    "slideshow": {
     "slide_type": "slide"
    }
   },
   "source": [
    "# Structural Elements\n",
    "\n",
    "Let's start building circuits and get acquainted with Terra."
   ]
  },
  {
   "cell_type": "code",
   "execution_count": 14,
   "metadata": {
    "ExecuteTime": {
     "end_time": "2019-02-25T21:01:37.741458Z",
     "start_time": "2019-02-25T21:01:37.737495Z"
    },
    "slideshow": {
     "slide_type": "skip"
    }
   },
   "outputs": [],
   "source": [
    "# Housekeeping: uncomment this to suppress deprecation warnings\n",
    "import warnings\n",
    "warnings.filterwarnings('ignore')"
   ]
  },
  {
   "cell_type": "code",
   "execution_count": 15,
   "metadata": {
    "ExecuteTime": {
     "end_time": "2019-02-26T03:00:09.099523Z",
     "start_time": "2019-02-26T03:00:07.118998Z"
    },
    "slideshow": {
     "slide_type": "slide"
    }
   },
   "outputs": [],
   "source": [
    "from qiskit import QuantumRegister, ClassicalRegister, QuantumCircuit\n",
    "import numpy as np"
   ]
  },
  {
   "cell_type": "code",
   "execution_count": 16,
   "metadata": {
    "ExecuteTime": {
     "end_time": "2019-02-25T21:01:40.143448Z",
     "start_time": "2019-02-25T21:01:40.139923Z"
    },
    "slideshow": {
     "slide_type": "fragment"
    }
   },
   "outputs": [],
   "source": [
    "# Create a Quantum Register with 3 qubits\n",
    "qr = QuantumRegister(3)\n",
    "\n",
    "# Create a Classical Register with 3 bits\n",
    "# Only necessary if you want to do measurement!\n",
    "cr = ClassicalRegister(3)\n",
    "\n",
    "# Create a Quantum Circuit acting on the qr and cr register\n",
    "circuit = QuantumCircuit(qr, cr)"
   ]
  },
  {
   "cell_type": "markdown",
   "metadata": {
    "slideshow": {
     "slide_type": "slide"
    }
   },
   "source": [
    "# QuantumCircuits are the primary unit of computation in Terra\n",
    "* QuantumCircuits are backend agnostic\n",
    "* They contain:\n",
    "  * name - for referencing the circuit later (e.g. in the results object)\n",
    "  * data - a list of gates in the circuit\n",
    "  * regs - the QuantumRegisters and ClassicalRegisters in the gates of the circuit"
   ]
  },
  {
   "cell_type": "markdown",
   "metadata": {
    "slideshow": {
     "slide_type": "slide"
    }
   },
   "source": [
    "# Gates! There are many.\n",
    "\n",
    "Qiskit supports many gates. They are located in the `qiskit/extensions/standard` directory, but are loaded behind the scenes so you don’t need to import them one by one.\n",
    "\n",
    "Gates are technically objects, but in practice you're likely to use them in the form of static functions on the circuit object. More info on gates [here](https://github.com/Qiskit/qiskit-tutorial/blob/master/qiskit/terra/summary_of_quantum_operations.ipynb).\n",
    "\n",
    "The basis gateset of the IBM Q devices is `{id, u1, u2, u3, cx}`."
   ]
  },
  {
   "cell_type": "markdown",
   "metadata": {
    "slideshow": {
     "slide_type": "slide"
    }
   },
   "source": [
    "After we add some gates, we can print our circuit's Qasm:"
   ]
  },
  {
   "cell_type": "code",
   "execution_count": 17,
   "metadata": {
    "ExecuteTime": {
     "end_time": "2019-02-25T21:01:40.730633Z",
     "start_time": "2019-02-25T21:01:40.725435Z"
    },
    "slideshow": {
     "slide_type": "fragment"
    }
   },
   "outputs": [
    {
     "name": "stdout",
     "output_type": "stream",
     "text": [
      "OPENQASM 2.0;\n",
      "include \"qelib1.inc\";\n",
      "qreg q2[3];\n",
      "creg c2[3];\n",
      "h q2[0];\n",
      "cx q2[0],q2[1];\n",
      "\n"
     ]
    }
   ],
   "source": [
    "# Hadamard gate on qubit 0\n",
    "circuit.h(qr[0])\n",
    "\n",
    "# CNOT (Controlled-NOT) gate from qubit 0 to qubit 1\n",
    "circuit.cx(qr[0], qr[1])\n",
    "\n",
    "print(circuit.qasm())"
   ]
  },
  {
   "cell_type": "markdown",
   "metadata": {
    "slideshow": {
     "slide_type": "slide"
    }
   },
   "source": [
    "We can also use the CircuitDrawer to visualize the circuit:"
   ]
  },
  {
   "cell_type": "code",
   "execution_count": 18,
   "metadata": {
    "ExecuteTime": {
     "end_time": "2019-02-25T21:24:16.304922Z",
     "start_time": "2019-02-25T21:24:15.104044Z"
    },
    "slideshow": {
     "slide_type": "fragment"
    }
   },
   "outputs": [
    {
     "data": {
      "image/png": "[encoded data removed]",
      "text/plain": [
       "<PIL.Image.Image image mode=RGB size=280x265 at 0xA16A30400>"
      ]
     },
     "execution_count": 18,
     "metadata": {},
     "output_type": "execute_result"
    }
   ],
   "source": [
    "circuit.draw(output='latex')"
   ]
  },
  {
   "cell_type": "markdown",
   "metadata": {
    "slideshow": {
     "slide_type": "slide"
    }
   },
   "source": [
    "Now, we have enough to run the circuit. Let's import a backend, in this case a simulator, and run the circuit."
   ]
  },
  {
   "cell_type": "code",
   "execution_count": 19,
   "metadata": {
    "ExecuteTime": {
     "end_time": "2019-02-25T21:02:14.604623Z",
     "start_time": "2019-02-25T21:02:14.572417Z"
    },
    "slideshow": {
     "slide_type": "fragment"
    }
   },
   "outputs": [
    {
     "data": {
      "text/plain": [
       "{'000': 1024}"
      ]
     },
     "execution_count": 19,
     "metadata": {},
     "output_type": "execute_result"
    }
   ],
   "source": [
    "from qiskit import Aer, execute\n",
    "qasm_backend = Aer.get_backend('qasm_simulator')\n",
    "\n",
    "job = execute(circuit, qasm_backend)\n",
    "\n",
    "result = job.result()\n",
    "result.get_counts(circuit)"
   ]
  },
  {
   "cell_type": "markdown",
   "metadata": {
    "slideshow": {
     "slide_type": "slide"
    }
   },
   "source": [
    "Whoops! We forgot to measure. Let's do that."
   ]
  },
  {
   "cell_type": "code",
   "execution_count": 20,
   "metadata": {
    "ExecuteTime": {
     "end_time": "2019-02-25T18:40:25.865557Z",
     "start_time": "2019-02-25T18:40:25.856560Z"
    }
   },
   "outputs": [
    {
     "data": {
      "text/html": [
       "<pre style=\"word-wrap: normal;white-space: pre;line-height: 15px;\">            ┌───┐        ┌─┐\n",
       "q2_0: |0>───┤ H ├──■─────┤M├\n",
       "            └───┘┌─┴─┐┌─┐└╥┘\n",
       "q2_1: |0>────────┤ X ├┤M├─╫─\n",
       "         ┌─┐     └───┘└╥┘ ║ \n",
       "q2_2: |0>┤M├───────────╫──╫─\n",
       "         └╥┘           ║  ║ \n",
       " c2_0: 0 ═╬════════════╬══╩═\n",
       "          ║            ║    \n",
       " c2_1: 0 ═╬════════════╩════\n",
       "          ║                 \n",
       " c2_2: 0 ═╩═════════════════\n",
       "                            </pre>"
      ],
      "text/plain": [
       "<qiskit.tools.visualization._text.TextDrawing at 0xa153796a0>"
      ]
     },
     "execution_count": 20,
     "metadata": {},
     "output_type": "execute_result"
    }
   ],
   "source": [
    "circuit.measure(qr, cr)\n",
    "circuit.draw()"
   ]
  },
  {
   "cell_type": "code",
   "execution_count": 21,
   "metadata": {
    "ExecuteTime": {
     "end_time": "2019-02-25T18:41:02.407567Z",
     "start_time": "2019-02-25T18:41:02.371478Z"
    }
   },
   "outputs": [
    {
     "data": {
      "text/plain": [
       "{'000': 483, '011': 541}"
      ]
     },
     "execution_count": 21,
     "metadata": {},
     "output_type": "execute_result"
    }
   ],
   "source": [
    "job = execute(circuit, qasm_backend)\n",
    "\n",
    "result = job.result()\n",
    "result.get_counts(circuit)"
   ]
  },
  {
   "cell_type": "markdown",
   "metadata": {
    "slideshow": {
     "slide_type": "-"
    }
   },
   "source": [
    "Note that from version 0.6 onwards, Terra treats the rightmost qubit as qubit 0."
   ]
  },
  {
   "cell_type": "markdown",
   "metadata": {
    "slideshow": {
     "slide_type": "slide"
    }
   },
   "source": [
    "# Qobjs and DAGs\n",
    "\n",
    "We actually skipped a few steps that happen under the hood during `execute`, but you'll often ignore these for algorithm development. \n",
    "\n",
    "Execute calls `compile` to convert the circuit into a `Qobj`, which is a backend-specific object. While doing so, `compile` also calls the `transpiler`, which converts the circuit into a `Directed Acyclic Graph`(`DAG`) of gates, and optimizes the `DAG` for the target execution backend (`DAGs` are much easier to optimize than ciruits). We're going to breeze through these for now."
   ]
  },
  {
   "cell_type": "markdown",
   "metadata": {
    "slideshow": {
     "slide_type": "slide"
    }
   },
   "source": [
    "# Compilation Settings - a good picture of Terra’s robustness\n",
    "\n",
    "```\n",
    "def compile(circuits, backend,\n",
    "            config=None, basis_gates=None, \n",
    "            coupling_map=None, initial_layout=None, \n",
    "            shots=1024, pass_manager=None, memory=False):\n",
    "```"
   ]
  },
  {
   "cell_type": "markdown",
   "metadata": {
    "slideshow": {
     "slide_type": "fragment"
    }
   },
   "source": [
    "* circuits (QuantumCircuit or list[QuantumCircuit]): circuits to compile\n",
    "* backend (BaseBackend or str): a backend for which to compile\n",
    "* config (dict): dictionary of parameters (e.g. noise) used by runner - more info [here](https://github.com/Qiskit/qiskit-terra/blob/9149076d16dd98552077e389b21ed2f953d96b2e/src/qasm-simulator-cpp/README.md#config-settings)\n",
    "* basis_gates (str): comma-separated basis gate set to compile to\n",
    "* coupling_map (list): coupling map (perhaps custom) representing physical qubit connectivity\n",
    "* initial_layout (list): user-specified mapping of logical to physical qubits\n",
    "* shots (int): number of repetitions of each circuit, for sampling\n",
    "* pass_manager (PassManager): a pass manger for the transpiler pipeline\n",
    "* memory (bool): if True, per-shot measurement bitstrings are returned as well"
   ]
  },
  {
   "cell_type": "markdown",
   "metadata": {
    "slideshow": {
     "slide_type": "slide"
    }
   },
   "source": [
    "# Computational Flow\n",
    "\n",
    "Let's review our running count of Terra's core objects:\n",
    "* QuantumRegister, ClassicalRegister\n",
    "* QuantumCircuit\n",
    "* Gate\n",
    "* Backend\n",
    "* DAG\n",
    "* Qobj\n",
    "* Job, result"
   ]
  },
  {
   "cell_type": "markdown",
   "metadata": {
    "ExecuteTime": {
     "end_time": "2019-02-25T18:49:04.615692Z",
     "start_time": "2019-02-25T18:49:04.609037Z"
    },
    "slideshow": {
     "slide_type": "slide"
    }
   },
   "source": [
    "And the computational flow of Terra is:\n",
    "* Gates are added to QuantumCircuits\n",
    "* QuantumCircuits are transpiled into DAGs, DAGs are compiled in Qobjs\n",
    "* Qobjs are sent to backends\n",
    "* Backends return results"
   ]
  },
  {
   "cell_type": "markdown",
   "metadata": {
    "slideshow": {
     "slide_type": "slide"
    }
   },
   "source": [
    "So far we've run a very vanilla Bell state. Let's do some more interesting things."
   ]
  },
  {
   "cell_type": "code",
   "execution_count": 22,
   "metadata": {
    "ExecuteTime": {
     "end_time": "2019-02-25T18:50:11.173331Z",
     "start_time": "2019-02-25T18:50:11.149587Z"
    },
    "slideshow": {
     "slide_type": "fragment"
    }
   },
   "outputs": [
    {
     "data": {
      "text/html": [
       "<pre style=\"word-wrap: normal;white-space: pre;line-height: 15px;\">                   ┌────────────┐ ░      ┌───┐ ░    ┌─┐\n",
       "q3_0: |0>──────────┤ Ry(1.5708) ├─░───■──┤ H ├─░────┤M├\n",
       "         ┌───┐     └────────────┘ ░ ┌─┴─┐└───┘ ░ ┌─┐└╥┘\n",
       "q3_1: |0>┤ H ├──■─────────────────░─┤ X ├──────░─┤M├─╫─\n",
       "         └───┘┌─┴─┐               ░ └───┘      ░ └╥┘ ║ \n",
       "q3_2: |0>─────┤ X ├───────────────░────────────░──╫──╫─\n",
       "              └───┘               ░            ░  ║  ║ \n",
       " c3_0: 0 ═════════════════════════════════════════╬══╩═\n",
       "                                                  ║    \n",
       " c3_1: 0 ═════════════════════════════════════════╩════\n",
       "                                                       \n",
       " c3_2: 0 ══════════════════════════════════════════════\n",
       "                                                       </pre>"
      ],
      "text/plain": [
       "<qiskit.tools.visualization._text.TextDrawing at 0xa168d7860>"
      ]
     },
     "execution_count": 22,
     "metadata": {},
     "output_type": "execute_result"
    }
   ],
   "source": [
    "qr = QuantumRegister(3)\n",
    "cr = ClassicalRegister(3)\n",
    "circuit = QuantumCircuit(qr, cr)\n",
    "circuit.ry(np.pi/2, qr[0])\n",
    "circuit.h(qr[1])\n",
    "circuit.cx(qr[1], qr[2])\n",
    "circuit.barrier()\n",
    "\n",
    "circuit.cx(qr[0], qr[1])\n",
    "circuit.h(qr[0])\n",
    "circuit.barrier()\n",
    "\n",
    "circuit.measure(qr[0], cr[0])\n",
    "circuit.measure(qr[1], cr[1])\n",
    "\n",
    "circuit.draw()"
   ]
  },
  {
   "cell_type": "markdown",
   "metadata": {
    "slideshow": {
     "slide_type": "slide"
    }
   },
   "source": [
    "Qiskit allows conditional gates in simulation, but not on the real quantum hardware (yet)."
   ]
  },
  {
   "cell_type": "code",
   "execution_count": 23,
   "metadata": {
    "ExecuteTime": {
     "end_time": "2019-02-25T18:50:35.582353Z",
     "start_time": "2019-02-25T18:50:35.565160Z"
    },
    "slideshow": {
     "slide_type": "fragment"
    }
   },
   "outputs": [
    {
     "data": {
      "text/html": [
       "<pre style=\"word-wrap: normal;white-space: pre;line-height: 15px;\">                   ┌────────────┐ ░      ┌───┐ ░    ┌─┐                        \n",
       "q3_0: |0>──────────┤ Ry(1.5708) ├─░───■──┤ H ├─░────┤M├────────────────────────\n",
       "         ┌───┐     └────────────┘ ░ ┌─┴─┐└───┘ ░ ┌─┐└╥┘                        \n",
       "q3_1: |0>┤ H ├──■─────────────────░─┤ X ├──────░─┤M├─╫─────────────────────────\n",
       "         └───┘┌─┴─┐               ░ └───┘      ░ └╥┘ ║ ┌─────┐┌─────┐┌─────┐┌─┐\n",
       "q3_2: |0>─────┤ X ├───────────────░────────────░──╫──╫─┤  Z  ├┤  X  ├┤  Y  ├┤M├\n",
       "              └───┘               ░            ░  ║  ║ ├──┴──┤├──┴──┤├──┴──┤└╥┘\n",
       " c3_0: 0 ═════════════════════════════════════════╬══╩═╡     ╞╡     ╞╡     ╞═╬═\n",
       "                                                  ║    │     ││     ││     │ ║ \n",
       " c3_1: 0 ═════════════════════════════════════════╩════╡ = 1 ╞╡ = 2 ╞╡ = 3 ╞═╬═\n",
       "                                                       │     ││     ││     │ ║ \n",
       " c3_2: 0 ══════════════════════════════════════════════╡     ╞╡     ╞╡     ╞═╩═\n",
       "                                                       └─────┘└─────┘└─────┘   </pre>"
      ],
      "text/plain": [
       "<qiskit.tools.visualization._text.TextDrawing at 0xa169200b8>"
      ]
     },
     "execution_count": 23,
     "metadata": {},
     "output_type": "execute_result"
    }
   ],
   "source": [
    "circuit.z(qr[2]).c_if(cr, 1)\n",
    "circuit.x(qr[2]).c_if(cr, 2)\n",
    "circuit.y(qr[2]).c_if(cr, 3) # Note that ZX =iY\n",
    "circuit.measure(qr[2], cr[2])\n",
    "circuit.draw()"
   ]
  },
  {
   "cell_type": "markdown",
   "metadata": {
    "slideshow": {
     "slide_type": "slide"
    }
   },
   "source": [
    "You can find a more in depth guide to teleportation in Anna Phan's notebook on the topic, [here](https://github.com/Qiskit/qiskit-tutorial/blob/master/community/terra/qis_intro/teleportation_superdensecoding.ipynb).\n",
    "\n",
    "Let's see what pops out."
   ]
  },
  {
   "cell_type": "code",
   "execution_count": 24,
   "metadata": {
    "ExecuteTime": {
     "end_time": "2019-02-25T18:52:14.132356Z",
     "start_time": "2019-02-25T18:52:14.075372Z"
    },
    "slideshow": {
     "slide_type": "fragment"
    }
   },
   "outputs": [
    {
     "data": {
      "text/plain": [
       "{'001': 128,\n",
       " '101': 124,\n",
       " '110': 132,\n",
       " '111': 137,\n",
       " '010': 119,\n",
       " '000': 138,\n",
       " '100': 115,\n",
       " '011': 131}"
      ]
     },
     "execution_count": 24,
     "metadata": {},
     "output_type": "execute_result"
    }
   ],
   "source": [
    "job = execute(circuit, qasm_backend)\n",
    "\n",
    "result = job.result()\n",
    "result.get_counts(circuit)"
   ]
  },
  {
   "cell_type": "markdown",
   "metadata": {
    "slideshow": {
     "slide_type": "slide"
    }
   },
   "source": [
    "Maybe this isn't accurate enough to tell what we encoded on qubit 1. Let's increase the number of shots."
   ]
  },
  {
   "cell_type": "code",
   "execution_count": 25,
   "metadata": {
    "ExecuteTime": {
     "end_time": "2019-02-25T18:52:24.075088Z",
     "start_time": "2019-02-25T18:52:23.913105Z"
    },
    "slideshow": {
     "slide_type": "fragment"
    }
   },
   "outputs": [
    {
     "data": {
      "text/plain": [
       "{'001': 1205,\n",
       " '101': 1224,\n",
       " '110': 1289,\n",
       " '111': 1219,\n",
       " '010': 1315,\n",
       " '000': 1245,\n",
       " '100': 1208,\n",
       " '011': 1295}"
      ]
     },
     "execution_count": 25,
     "metadata": {},
     "output_type": "execute_result"
    }
   ],
   "source": [
    "job = execute(circuit, qasm_backend, shots = 10000)\n",
    "\n",
    "result = job.result()\n",
    "result.get_counts(circuit)"
   ]
  },
  {
   "cell_type": "markdown",
   "metadata": {
    "slideshow": {
     "slide_type": "slide"
    }
   },
   "source": [
    "Now let's visualize those results as a histogram"
   ]
  },
  {
   "cell_type": "code",
   "execution_count": 26,
   "metadata": {
    "ExecuteTime": {
     "end_time": "2019-02-25T18:52:29.162699Z",
     "start_time": "2019-02-25T18:52:29.158786Z"
    },
    "slideshow": {
     "slide_type": "fragment"
    }
   },
   "outputs": [],
   "source": [
    "from qiskit.tools.visualization import plot_histogram"
   ]
  },
  {
   "cell_type": "code",
   "execution_count": 27,
   "metadata": {
    "ExecuteTime": {
     "end_time": "2019-02-25T18:52:29.853448Z",
     "start_time": "2019-02-25T18:52:29.620846Z"
    },
    "slideshow": {
     "slide_type": "fragment"
    }
   },
   "outputs": [
    {
     "data": {
      "image/png": "[encoded data removed]",
      "text/plain": [
       "<Figure size 504x360 with 1 Axes>"
      ]
     },
     "execution_count": 27,
     "metadata": {},
     "output_type": "execute_result"
    }
   ],
   "source": [
    "plot_histogram(result.get_counts(circuit))"
   ]
  },
  {
   "cell_type": "markdown",
   "metadata": {
    "slideshow": {
     "slide_type": "slide"
    }
   },
   "source": [
    "And now, calculating the percentage of shots with |0> measured on qubit 2 (but qubit 0 in our results)."
   ]
  },
  {
   "cell_type": "code",
   "execution_count": 28,
   "metadata": {
    "ExecuteTime": {
     "end_time": "2019-02-25T18:52:39.038192Z",
     "start_time": "2019-02-25T18:52:39.031270Z"
    },
    "slideshow": {
     "slide_type": "fragment"
    }
   },
   "outputs": [
    {
     "data": {
      "text/plain": [
       "0.506"
      ]
     },
     "execution_count": 28,
     "metadata": {},
     "output_type": "execute_result"
    }
   ],
   "source": [
    "counts = result.get_counts(circuit)\n",
    "qubit3_p0 = sum([v for k, v in counts.items() if k[0]=='0'])/10000\n",
    "qubit3_p0"
   ]
  },
  {
   "cell_type": "markdown",
   "metadata": {
    "slideshow": {
     "slide_type": "slide"
    }
   },
   "source": [
    "Our probability of finding 0 is 50%, which is correct, because Ry(pi/2) should put qubit 0 in the |+> state. \n",
    "\n",
    "But how do we know that we're not in the |-> state, or any other state along the equator of the Bloch sphere? Let's use a Hadamard to see whether our phase is correct. We'll need to delete the final measurement and add the Hadamard to do this."
   ]
  },
  {
   "cell_type": "code",
   "execution_count": 29,
   "metadata": {
    "ExecuteTime": {
     "end_time": "2019-02-25T18:53:43.794850Z",
     "start_time": "2019-02-25T18:53:43.778476Z"
    },
    "slideshow": {
     "slide_type": "slide"
    }
   },
   "outputs": [
    {
     "data": {
      "text/html": [
       "<pre style=\"word-wrap: normal;white-space: pre;line-height: 15px;\">                   ┌────────────┐ ░      ┌───┐ ░    ┌─┐                             \n",
       "q3_0: |0>──────────┤ Ry(1.5708) ├─░───■──┤ H ├─░────┤M├─────────────────────────────\n",
       "         ┌───┐     └────────────┘ ░ ┌─┴─┐└───┘ ░ ┌─┐└╥┘                             \n",
       "q3_1: |0>┤ H ├──■─────────────────░─┤ X ├──────░─┤M├─╫──────────────────────────────\n",
       "         └───┘┌─┴─┐               ░ └───┘      ░ └╥┘ ║ ┌─────┐┌─────┐┌─────┐┌───┐┌─┐\n",
       "q3_2: |0>─────┤ X ├───────────────░────────────░──╫──╫─┤  Z  ├┤  X  ├┤  Y  ├┤ H ├┤M├\n",
       "              └───┘               ░            ░  ║  ║ ├──┴──┤├──┴──┤├──┴──┤└───┘└╥┘\n",
       " c3_0: 0 ═════════════════════════════════════════╬══╩═╡     ╞╡     ╞╡     ╞══════╬═\n",
       "                                                  ║    │     ││     ││     │      ║ \n",
       " c3_1: 0 ═════════════════════════════════════════╩════╡ = 1 ╞╡ = 2 ╞╡ = 3 ╞══════╬═\n",
       "                                                       │     ││     ││     │      ║ \n",
       " c3_2: 0 ══════════════════════════════════════════════╡     ╞╡     ╞╡     ╞══════╩═\n",
       "                                                       └─────┘└─────┘└─────┘        </pre>"
      ],
      "text/plain": [
       "<qiskit.tools.visualization._text.TextDrawing at 0xa168f86a0>"
      ]
     },
     "execution_count": 29,
     "metadata": {},
     "output_type": "execute_result"
    }
   ],
   "source": [
    "del(circuit.data[-1])\n",
    "circuit.h(qr[2])\n",
    "circuit.measure(qr[2], cr[2])\n",
    "circuit.draw(line_length=200)"
   ]
  },
  {
   "cell_type": "code",
   "execution_count": 63,
   "metadata": {
    "ExecuteTime": {
     "end_time": "2019-02-25T18:53:48.230777Z",
     "start_time": "2019-02-25T18:53:47.017159Z"
    },
    "slideshow": {
     "slide_type": "fragment"
    }
   },
   "outputs": [
    {
     "data": {
      "text/plain": [
       "1.0"
      ]
     },
     "execution_count": 63,
     "metadata": {},
     "output_type": "execute_result"
    }
   ],
   "source": [
    "shots = 100000\n",
    "job = execute(circuit, qasm_backend, shots=shots)\n",
    "\n",
    "result = job.result()\n",
    "result.get_counts(circuit)\n",
    "counts = result.get_counts(circuit)\n",
    "qubit3_p0 = sum([v for k, v in counts.items() if k[0]=='0'])/100000\n",
    "qubit3_p0"
   ]
  },
  {
   "cell_type": "raw",
   "metadata": {},
   "source": []
  },
  {
   "cell_type": "markdown",
   "metadata": {
    "slideshow": {
     "slide_type": "fragment"
    }
   },
   "source": [
    "Looks like our final state is indeed |+>, because our P(|0>) = 100%. "
   ]
  },
  {
   "cell_type": "markdown",
   "metadata": {
    "slideshow": {
     "slide_type": "slide"
    }
   },
   "source": [
    "# Example: Phase Estimation"
   ]
  },
  {
   "cell_type": "markdown",
   "metadata": {
    "slideshow": {
     "slide_type": "slide"
    }
   },
   "source": [
    "Let's see if we can work out a small phase estimation function, and sanity check it on simulators before trying it on the quantum hardware. \n",
    "\n",
    "- We'll start with a QFT, which comes directly from Terra. \n",
    "- We're going to use the Pauli X as our unitary, which simplifies things a lot\n",
    "- I'll then define a function to give me my circuit"
   ]
  },
  {
   "cell_type": "code",
   "execution_count": 31,
   "metadata": {
    "ExecuteTime": {
     "end_time": "2019-02-25T18:54:08.210118Z",
     "start_time": "2019-02-25T18:54:08.203625Z"
    },
    "slideshow": {
     "slide_type": "fragment"
    }
   },
   "outputs": [],
   "source": [
    "def qft(circ, q, n):\n",
    "    \"\"\"n-qubit QFT on q in circ.\"\"\"\n",
    "    for j in range(n):\n",
    "        for k in range(j):\n",
    "            circ.cu1(np.pi / float(2**(j - k)), q[j], q[k])\n",
    "        circ.h(q[j])"
   ]
  },
  {
   "cell_type": "code",
   "execution_count": 32,
   "metadata": {
    "ExecuteTime": {
     "end_time": "2019-02-25T18:56:46.456404Z",
     "start_time": "2019-02-25T18:56:46.450520Z"
    },
    "slideshow": {
     "slide_type": "fragment"
    }
   },
   "outputs": [],
   "source": [
    "#Takes in a circuit with an operator on qubit n and appends the qpe circuit\n",
    "def x_qpe(circ, q, n):\n",
    "    for i in range(n-1):\n",
    "        circ.h(q[i])\n",
    "    for j in range(0, n-1, 2): # Only place a CX^n on every other qubit, because CX^n = I for n even\n",
    "        circ.cx(q[j], q[n-1])\n",
    "    circ.barrier()\n",
    "    qft(circ, q, n-1)"
   ]
  },
  {
   "cell_type": "markdown",
   "metadata": {
    "slideshow": {
     "slide_type": "slide"
    }
   },
   "source": [
    "Play around with the ancilla number, the operator, the initial state, etc., see what happens!"
   ]
  },
  {
   "cell_type": "code",
   "execution_count": 33,
   "metadata": {
    "ExecuteTime": {
     "end_time": "2019-02-25T18:56:56.379411Z",
     "start_time": "2019-02-25T18:56:56.373589Z"
    },
    "slideshow": {
     "slide_type": "-"
    }
   },
   "outputs": [],
   "source": [
    "# n-1 is the number of ancilla\n",
    "n = 4\n",
    "qr = QuantumRegister(n)\n",
    "cr = ClassicalRegister(n)\n",
    "circuit = QuantumCircuit(qr, cr)\n",
    "circuit.rx(np.pi/2, qr[n-1])\n",
    "circuit.barrier()\n",
    "x_qpe(circuit, qr, n)"
   ]
  },
  {
   "cell_type": "code",
   "execution_count": 34,
   "metadata": {
    "ExecuteTime": {
     "end_time": "2019-02-25T19:26:59.392222Z",
     "start_time": "2019-02-25T19:26:59.375603Z"
    },
    "slideshow": {
     "slide_type": "slide"
    }
   },
   "outputs": [
    {
     "data": {
      "text/html": [
       "<pre style=\"word-wrap: normal;white-space: pre;line-height: 15px;\">                        ░           ┌───┐           ░ ┌───┐                                     \n",
       "q4_0: |0>───────────────░───────────┤ H ├──■────────░─┤ H ├─■────────■──────────────────────────\n",
       "                        ░      ┌───┐└───┘  │        ░ └───┘ │1.5708  │       ┌───┐              \n",
       "q4_1: |0>───────────────░──────┤ H ├───────┼────────░───────■────────┼───────┤ H ├─■────────────\n",
       "                        ░ ┌───┐└───┘       │        ░                │0.7854 └───┘ │1.5708 ┌───┐\n",
       "q4_2: |0>───────────────░─┤ H ├────────────┼────■───░────────────────■─────────────■───────┤ H ├\n",
       "         ┌────────────┐ ░ └───┘          ┌─┴─┐┌─┴─┐ ░                                      └───┘\n",
       "q4_3: |0>┤ Rx(1.5708) ├─░────────────────┤ X ├┤ X ├─░───────────────────────────────────────────\n",
       "         └────────────┘ ░                └───┘└───┘ ░                                           \n",
       " c4_0: 0 ═══════════════════════════════════════════════════════════════════════════════════════\n",
       "                                                                                                \n",
       " c4_1: 0 ═══════════════════════════════════════════════════════════════════════════════════════\n",
       "                                                                                                \n",
       " c4_2: 0 ═══════════════════════════════════════════════════════════════════════════════════════\n",
       "                                                                                                \n",
       " c4_3: 0 ═══════════════════════════════════════════════════════════════════════════════════════\n",
       "                                                                                                </pre>"
      ],
      "text/plain": [
       "<qiskit.tools.visualization._text.TextDrawing at 0xa168f85f8>"
      ]
     },
     "execution_count": 34,
     "metadata": {},
     "output_type": "execute_result"
    }
   ],
   "source": [
    "circuit.draw(line_length=200)"
   ]
  },
  {
   "cell_type": "markdown",
   "metadata": {},
   "source": [
    "Now that we have our basic algorithm, let's start trying to test and validate it in **quantum execution environments**."
   ]
  },
  {
   "cell_type": "markdown",
   "metadata": {
    "slideshow": {
     "slide_type": "slide"
    }
   },
   "source": [
    "# Interlude: Backends\n",
    "\n",
    "Qiskit offers connectors into execution `providers`, each with several `backends`:\n",
    "\n",
    "* BasicAer: Terra's built-in suite of pure-python simulators\n",
    "* Aer: Qiskit's suite of high-performance simulators\n",
    "* IBMQ: IBM's Quantum devices, and an HPC simulator "
   ]
  },
  {
   "cell_type": "code",
   "execution_count": 35,
   "metadata": {
    "ExecuteTime": {
     "end_time": "2019-02-25T19:28:20.877371Z",
     "start_time": "2019-02-25T19:28:20.874107Z"
    },
    "slideshow": {
     "slide_type": "fragment"
    }
   },
   "outputs": [],
   "source": [
    "from qiskit import IBMQ, Aer, BasicAer"
   ]
  },
  {
   "cell_type": "markdown",
   "metadata": {
    "slideshow": {
     "slide_type": "slide"
    }
   },
   "source": [
    "# Simuators\n",
    "\n",
    "* qasm_simulator - a shot-based simulator\n",
    "  * Input: a Qobj and execution config\n",
    "  * Output: a results object containing a dictionary with basis states and shots per state\n",
    "    * {‘00’: 425, ‘01’: 267, ‘11’: 90}\n",
    "  * You can specify a random seed so the probabilistic measurement and noise stays the same"
   ]
  },
  {
   "cell_type": "markdown",
   "metadata": {
    "ExecuteTime": {
     "end_time": "2019-02-25T19:35:24.686950Z",
     "start_time": "2019-02-25T19:35:24.683057Z"
    },
    "slideshow": {
     "slide_type": "slide"
    }
   },
   "source": [
    "# Simulators\n",
    "* statevector_simulator - This is the qasm_simulator with a snapshot at the end\n",
    "  * Returns result object containing a dictionary of basis states with complex amplitudes for each\n",
    "* unitary_simulator - Returns a matrix of your circuit!\n",
    "* ibmq_qasm_simulator - a public simulator on an HPC machine run by IBM (Note, this is under the IBMQ `provider`)"
   ]
  },
  {
   "cell_type": "markdown",
   "metadata": {
    "slideshow": {
     "slide_type": "slide"
    }
   },
   "source": [
    "# Aer vs BasicAer\n",
    "- Aer is fast\n",
    "- BasicAer is slow\n",
    "\n",
    "* `aer.noise` - includes sophisticated noise models, which you can find more info about [here](https://qiskit.org/documentation/aer/device_noise_simulation.html)\n",
    "* `pip install qiskit` comes with binaries for many platforms so you shouldn’t need to compile cpp (but if you do, check out the [Terra contributing file on github](https://github.com/Qiskit/qiskit-terra/blob/master/.github/CONTRIBUTING.rst) for make instructions.)"
   ]
  },
  {
   "cell_type": "code",
   "execution_count": 36,
   "metadata": {
    "ExecuteTime": {
     "end_time": "2019-02-25T19:47:59.915238Z",
     "start_time": "2019-02-25T19:47:59.911533Z"
    },
    "slideshow": {
     "slide_type": "fragment"
    }
   },
   "outputs": [
    {
     "name": "stdout",
     "output_type": "stream",
     "text": [
      "qasm_simulator\n"
     ]
    }
   ],
   "source": [
    "backend = Aer.get_backend(\"qasm_simulator\")\n",
    "print(backend)"
   ]
  },
  {
   "cell_type": "markdown",
   "metadata": {
    "slideshow": {
     "slide_type": "slide"
    }
   },
   "source": [
    "## Ok - Back to Phase Estimation:"
   ]
  },
  {
   "cell_type": "code",
   "execution_count": 110,
   "metadata": {
    "ExecuteTime": {
     "end_time": "2019-02-25T19:48:16.875462Z",
     "start_time": "2019-02-25T19:48:16.872254Z"
    },
    "slideshow": {
     "slide_type": "slide"
    }
   },
   "outputs": [],
   "source": [
    "qasm_backend = Aer.get_backend('qasm_simulator')"
   ]
  },
  {
   "cell_type": "markdown",
   "metadata": {
    "slideshow": {
     "slide_type": "fragment"
    }
   },
   "source": [
    "Don't forget to measure! Recall that we don't measure our |u> qubit."
   ]
  },
  {
   "cell_type": "code",
   "execution_count": 111,
   "metadata": {
    "ExecuteTime": {
     "end_time": "2019-02-25T19:48:21.540571Z",
     "start_time": "2019-02-25T19:48:21.536277Z"
    },
    "slideshow": {
     "slide_type": "fragment"
    }
   },
   "outputs": [],
   "source": [
    "circuit.barrier()\n",
    "for i in range(n-1):\n",
    "    circuit.measure(qr[i], cr[i])"
   ]
  },
  {
   "cell_type": "code",
   "execution_count": 112,
   "metadata": {
    "ExecuteTime": {
     "end_time": "2019-02-25T19:48:22.314591Z",
     "start_time": "2019-02-25T19:48:22.229281Z"
    },
    "slideshow": {
     "slide_type": "slide"
    }
   },
   "outputs": [],
   "source": [
    "shots = 10000\n",
    "job = execute(circuit, qasm_backend, shots = shots)\n",
    "\n",
    "result = job.result()\n",
    "counts = result.get_counts(circuit)"
   ]
  },
  {
   "cell_type": "code",
   "execution_count": 113,
   "metadata": {
    "ExecuteTime": {
     "end_time": "2019-02-25T19:48:37.614529Z",
     "start_time": "2019-02-25T19:48:37.429516Z"
    },
    "slideshow": {
     "slide_type": "fragment"
    }
   },
   "outputs": [
    {
     "data": {
      "image/png": "[encoded data removed]",
      "text/plain": [
       "<Figure size 504x360 with 1 Axes>"
      ]
     },
     "execution_count": 113,
     "metadata": {},
     "output_type": "execute_result"
    }
   ],
   "source": [
    "plot_histogram(counts)"
   ]
  },
  {
   "cell_type": "markdown",
   "metadata": {},
   "source": [
    "We seem to be getting an ok answer, so let's try running on the **Quantum hardware**."
   ]
  },
  {
   "cell_type": "markdown",
   "metadata": {
    "slideshow": {
     "slide_type": "slide"
    }
   },
   "source": [
    "# The IBMQ Provider: Executing on Quantum Hardware\n",
    "\n",
    "\n",
    "To do this, you'll either get your Q Network API token and URL from the [console](https://q-console.mybluemix.net/) (if you are are a member of the Q Network), or you'll need to get an IBM Q Experience API token from the [Q Experience accounts page](https://quantumexperience.ng.bluemix.net/qx/account/advanced)."
   ]
  },
  {
   "cell_type": "code",
   "execution_count": 47,
   "metadata": {
    "ExecuteTime": {
     "end_time": "2019-02-25T19:54:47.867098Z",
     "start_time": "2019-02-25T19:54:46.270765Z"
    },
    "slideshow": {
     "slide_type": "fragment"
    }
   },
   "outputs": [
    {
     "name": "stdout",
     "output_type": "stream",
     "text": [
      "Available backends:\n"
     ]
    },
    {
     "data": {
      "text/plain": [
       "[<IBMQBackend('ibmqx2') from IBMQ()>,\n",
       " <IBMQBackend('ibmqx4') from IBMQ()>,\n",
       " <IBMQBackend('ibmq_16_melbourne') from IBMQ()>,\n",
       " <IBMQBackend('ibmq_4_atlantis') from IBMQ()>,\n",
       " <IBMQBackend('ibmq_local_test_mock') from IBMQ()>,\n",
       " <IBMQBackend('ibmq_qasm_simulator') from IBMQ()>]"
      ]
     },
     "execution_count": 47,
     "metadata": {},
     "output_type": "execute_result"
    }
   ],
   "source": [
    "# IBMQ.enable_account('<key>')\n",
    "# uncomment this ^^^ and insert your API key. Add a 'url' argument for Q Network users\n",
    "\n",
    "# Or you can use:\n",
    "IBMQ.load_accounts()\n",
    "\n",
    "print(\"Available backends:\")\n",
    "IBMQ.backends(filters= lambda b: b.hub is None)"
   ]
  },
  {
   "cell_type": "code",
   "execution_count": 96,
   "metadata": {
    "ExecuteTime": {
     "end_time": "2019-02-25T19:54:47.874297Z",
     "start_time": "2019-02-25T19:54:47.870270Z"
    },
    "slideshow": {
     "slide_type": "fragment"
    }
   },
   "outputs": [],
   "source": [
    "q_backend = IBMQ.get_backend('ibmqx4')"
   ]
  },
  {
   "cell_type": "markdown",
   "metadata": {
    "slideshow": {
     "slide_type": "slide"
    }
   },
   "source": [
    "## Back again to our circuit:"
   ]
  },
  {
   "cell_type": "code",
   "execution_count": 98,
   "metadata": {
    "ExecuteTime": {
     "end_time": "2019-02-25T19:55:00.655714Z",
     "start_time": "2019-02-25T19:55:00.156385Z"
    },
    "slideshow": {
     "slide_type": "-"
    }
   },
   "outputs": [],
   "source": [
    "shots = 8192        # Number of shots to run the program (experiment); maximum is 8192 shots.\n",
    "job_exp = execute(circuit, q_backend, shots = shots)"
   ]
  },
  {
   "cell_type": "code",
   "execution_count": 99,
   "metadata": {
    "ExecuteTime": {
     "end_time": "2019-02-25T19:55:01.757675Z",
     "start_time": "2019-02-25T19:55:01.751904Z"
    },
    "slideshow": {
     "slide_type": "fragment"
    }
   },
   "outputs": [
    {
     "data": {
      "text/plain": [
       "<JobStatus.QUEUED: 'job is queued'>"
      ]
     },
     "execution_count": 99,
     "metadata": {},
     "output_type": "execute_result"
    }
   ],
   "source": [
    "# Check the job status\n",
    "job_exp.status()"
   ]
  },
  {
   "cell_type": "markdown",
   "metadata": {
    "slideshow": {
     "slide_type": "fragment"
    }
   },
   "source": [
    "FYI, you can also retrieve an old job by its job_id."
   ]
  },
  {
   "cell_type": "code",
   "execution_count": 40,
   "metadata": {
    "slideshow": {
     "slide_type": "fragment"
    }
   },
   "outputs": [
    {
     "name": "stdout",
     "output_type": "stream",
     "text": [
      "JOB ID: 5c72d443c426dc0062a3525c\n"
     ]
    },
    {
     "data": {
      "text/plain": [
       "{'0110': 343,\n",
       " '0000': 2415,\n",
       " '0010': 447,\n",
       " '0101': 1604,\n",
       " '0100': 1792,\n",
       " '0011': 566,\n",
       " '0111': 412,\n",
       " '0001': 613}"
      ]
     },
     "execution_count": 40,
     "metadata": {},
     "output_type": "execute_result"
    }
   ],
   "source": [
    "jobID = job_exp.job_id()\n",
    "\n",
    "print('JOB ID: {}'.format(jobID))\n",
    "\n",
    "job_get=q_backend.retrieve_job(jobID)\n",
    "job_get.result().get_counts(circuit)"
   ]
  },
  {
   "cell_type": "markdown",
   "metadata": {
    "slideshow": {
     "slide_type": "slide"
    }
   },
   "source": [
    "Note that I increase the timeout and wait time considerably - this is often necessary. The defaults can be too short."
   ]
  },
  {
   "cell_type": "code",
   "execution_count": 41,
   "metadata": {
    "slideshow": {
     "slide_type": "fragment"
    }
   },
   "outputs": [
    {
     "data": {
      "image/png": "[encoded data removed]",
      "text/plain": [
       "<Figure size 504x360 with 1 Axes>"
      ]
     },
     "execution_count": 41,
     "metadata": {},
     "output_type": "execute_result"
    }
   ],
   "source": [
    "# We recommend increasing the timeout to 30 minutes to avoid timeout errors when the queue is long.\n",
    "result_real = job_exp.result(timeout=3600, wait=5)\n",
    "counts = result_real.get_counts(circuit)\n",
    "plot_histogram(counts)"
   ]
  },
  {
   "cell_type": "markdown",
   "metadata": {
    "slideshow": {
     "slide_type": "slide"
    }
   },
   "source": [
    "# Visualizing Devices, and Pulling Device Info\n",
    "\n",
    "- Terra has some neat built-in Jupyter magics for browsing device information, such as:\n",
    "    - qubit error\n",
    "    - job queues for public devices\n",
    "    - coupling maps\n",
    "\n",
    "- More info [here](https://github.com/Qiskit/qiskit-tutorials/blob/master/qiskit/jupyter/jupyter_backend_tools.ipynb).\n",
    "\n",
    "You can view the raw properties data for any backend like this:"
   ]
  },
  {
   "cell_type": "code",
   "execution_count": 53,
   "metadata": {},
   "outputs": [
    {
     "data": {
      "text/plain": [
       "BackendProperties(backend_name='ibmq_16_melbourne', backend_version='1.0.0', gates=[Gate(gate='u1', parameters=[Nduv(date=datetime.datetime(2019, 2, 25, 7, 31, 1, tzinfo=tzutc()), name='gate_error', unit='', value=0.0)], qubits=[0]), Gate(gate='u2', parameters=[Nduv(date=datetime.datetime(2019, 2, 25, 7, 31, 1, tzinfo=tzutc()), name='gate_error', unit='', value=0.001657744694001706)], qubits=[0]), Gate(gate='u3', parameters=[Nduv(date=datetime.datetime(2019, 2, 25, 7, 31, 1, tzinfo=tzutc()), name='gate_error', unit='', value=0.003315489388003412)], qubits=[0]), Gate(gate='u1', parameters=[Nduv(date=datetime.datetime(2019, 2, 25, 7, 31, 1, tzinfo=tzutc()), name='gate_error', unit='', value=0.0)], qubits=[1]), Gate(gate='u2', parameters=[Nduv(date=datetime.datetime(2019, 2, 25, 7, 31, 1, tzinfo=tzutc()), name='gate_error', unit='', value=0.007657438332263289)], qubits=[1]), Gate(gate='u3', parameters=[Nduv(date=datetime.datetime(2019, 2, 25, 7, 31, 1, tzinfo=tzutc()), name='gate_error', unit='', value=0.015314876664526578)], qubits=[1]), Gate(gate='u1', parameters=[Nduv(date=datetime.datetime(2019, 2, 25, 7, 31, 1, tzinfo=tzutc()), name='gate_error', unit='', value=0.0)], qubits=[2]), Gate(gate='u2', parameters=[Nduv(date=datetime.datetime(2019, 2, 25, 7, 31, 1, tzinfo=tzutc()), name='gate_error', unit='', value=0.003534263772314583)], qubits=[2]), Gate(gate='u3', parameters=[Nduv(date=datetime.datetime(2019, 2, 25, 7, 31, 1, tzinfo=tzutc()), name='gate_error', unit='', value=0.007068527544629166)], qubits=[2]), Gate(gate='u1', parameters=[Nduv(date=datetime.datetime(2019, 2, 25, 7, 31, 1, tzinfo=tzutc()), name='gate_error', unit='', value=0.0)], qubits=[3]), Gate(gate='u2', parameters=[Nduv(date=datetime.datetime(2019, 2, 25, 7, 31, 1, tzinfo=tzutc()), name='gate_error', unit='', value=0.0011586761277807)], qubits=[3]), Gate(gate='u3', parameters=[Nduv(date=datetime.datetime(2019, 2, 25, 7, 31, 1, tzinfo=tzutc()), name='gate_error', unit='', value=0.0023173522555614)], qubits=[3]), Gate(gate='u1', parameters=[Nduv(date=datetime.datetime(2019, 2, 25, 7, 31, 1, tzinfo=tzutc()), name='gate_error', unit='', value=0.0)], qubits=[4]), Gate(gate='u2', parameters=[Nduv(date=datetime.datetime(2019, 2, 25, 7, 31, 1, tzinfo=tzutc()), name='gate_error', unit='', value=0.001929259572122588)], qubits=[4]), Gate(gate='u3', parameters=[Nduv(date=datetime.datetime(2019, 2, 25, 7, 31, 1, tzinfo=tzutc()), name='gate_error', unit='', value=0.003858519144245176)], qubits=[4]), Gate(gate='u1', parameters=[Nduv(date=datetime.datetime(2019, 2, 25, 7, 31, 1, tzinfo=tzutc()), name='gate_error', unit='', value=0.0)], qubits=[5]), Gate(gate='u2', parameters=[Nduv(date=datetime.datetime(2019, 2, 25, 7, 31, 1, tzinfo=tzutc()), name='gate_error', unit='', value=0.002771458801925586)], qubits=[5]), Gate(gate='u3', parameters=[Nduv(date=datetime.datetime(2019, 2, 25, 7, 31, 1, tzinfo=tzutc()), name='gate_error', unit='', value=0.005542917603851172)], qubits=[5]), Gate(gate='u1', parameters=[Nduv(date=datetime.datetime(2019, 2, 25, 7, 31, 1, tzinfo=tzutc()), name='gate_error', unit='', value=0.0)], qubits=[6]), Gate(gate='u2', parameters=[Nduv(date=datetime.datetime(2019, 2, 25, 7, 31, 1, tzinfo=tzutc()), name='gate_error', unit='', value=0.0011505196550350427)], qubits=[6]), Gate(gate='u3', parameters=[Nduv(date=datetime.datetime(2019, 2, 25, 7, 31, 1, tzinfo=tzutc()), name='gate_error', unit='', value=0.0023010393100700854)], qubits=[6]), Gate(gate='u1', parameters=[Nduv(date=datetime.datetime(2019, 2, 25, 7, 31, 1, tzinfo=tzutc()), name='gate_error', unit='', value=0.0)], qubits=[7]), Gate(gate='u2', parameters=[Nduv(date=datetime.datetime(2019, 2, 25, 7, 31, 1, tzinfo=tzutc()), name='gate_error', unit='', value=0.001926840787433881)], qubits=[7]), Gate(gate='u3', parameters=[Nduv(date=datetime.datetime(2019, 2, 25, 7, 31, 1, tzinfo=tzutc()), name='gate_error', unit='', value=0.003853681574867762)], qubits=[7]), Gate(gate='u1', parameters=[Nduv(date=datetime.datetime(2019, 2, 25, 7, 31, 1, tzinfo=tzutc()), name='gate_error', unit='', value=0.0)], qubits=[8]), Gate(gate='u2', parameters=[Nduv(date=datetime.datetime(2019, 2, 25, 7, 31, 1, tzinfo=tzutc()), name='gate_error', unit='', value=0.0021222280974397822)], qubits=[8]), Gate(gate='u3', parameters=[Nduv(date=datetime.datetime(2019, 2, 25, 7, 31, 1, tzinfo=tzutc()), name='gate_error', unit='', value=0.0042444561948795645)], qubits=[8]), Gate(gate='u1', parameters=[Nduv(date=datetime.datetime(2019, 2, 25, 7, 31, 1, tzinfo=tzutc()), name='gate_error', unit='', value=0.0)], qubits=[9]), Gate(gate='u2', parameters=[Nduv(date=datetime.datetime(2019, 2, 25, 7, 31, 1, tzinfo=tzutc()), name='gate_error', unit='', value=0.0035423748381594455)], qubits=[9]), Gate(gate='u3', parameters=[Nduv(date=datetime.datetime(2019, 2, 25, 7, 31, 1, tzinfo=tzutc()), name='gate_error', unit='', value=0.007084749676318891)], qubits=[9]), Gate(gate='u1', parameters=[Nduv(date=datetime.datetime(2019, 2, 25, 7, 31, 1, tzinfo=tzutc()), name='gate_error', unit='', value=0.0)], qubits=[10]), Gate(gate='u2', parameters=[Nduv(date=datetime.datetime(2019, 2, 25, 7, 31, 1, tzinfo=tzutc()), name='gate_error', unit='', value=0.001913741446806283)], qubits=[10]), Gate(gate='u3', parameters=[Nduv(date=datetime.datetime(2019, 2, 25, 7, 31, 1, tzinfo=tzutc()), name='gate_error', unit='', value=0.003827482893612566)], qubits=[10]), Gate(gate='u1', parameters=[Nduv(date=datetime.datetime(2019, 2, 25, 7, 31, 1, tzinfo=tzutc()), name='gate_error', unit='', value=0.0)], qubits=[11]), Gate(gate='u2', parameters=[Nduv(date=datetime.datetime(2019, 2, 25, 7, 31, 1, tzinfo=tzutc()), name='gate_error', unit='', value=0.00253643788613922)], qubits=[11]), Gate(gate='u3', parameters=[Nduv(date=datetime.datetime(2019, 2, 25, 7, 31, 1, tzinfo=tzutc()), name='gate_error', unit='', value=0.00507287577227844)], qubits=[11]), Gate(gate='u1', parameters=[Nduv(date=datetime.datetime(2019, 2, 25, 7, 31, 1, tzinfo=tzutc()), name='gate_error', unit='', value=0.0)], qubits=[12]), Gate(gate='u2', parameters=[Nduv(date=datetime.datetime(2019, 2, 25, 7, 31, 1, tzinfo=tzutc()), name='gate_error', unit='', value=0.0033615212439866426)], qubits=[12]), Gate(gate='u3', parameters=[Nduv(date=datetime.datetime(2019, 2, 25, 7, 31, 1, tzinfo=tzutc()), name='gate_error', unit='', value=0.006723042487973285)], qubits=[12]), Gate(gate='u1', parameters=[Nduv(date=datetime.datetime(2019, 2, 25, 7, 31, 1, tzinfo=tzutc()), name='gate_error', unit='', value=0.0)], qubits=[13]), Gate(gate='u2', parameters=[Nduv(date=datetime.datetime(2019, 2, 25, 7, 31, 1, tzinfo=tzutc()), name='gate_error', unit='', value=0.005804811579962099)], qubits=[13]), Gate(gate='u3', parameters=[Nduv(date=datetime.datetime(2019, 2, 25, 7, 31, 1, tzinfo=tzutc()), name='gate_error', unit='', value=0.011609623159924198)], qubits=[13]), Gate(gate='cx', name='CX1_0', parameters=[Nduv(date=datetime.datetime(2019, 2, 24, 8, 26, 7, tzinfo=tzutc()), name='gate_error', unit='', value=0.05827277445210416)], qubits=[1, 0]), Gate(gate='cx', name='CX1_2', parameters=[Nduv(date=datetime.datetime(2019, 2, 24, 8, 29, 20, tzinfo=tzutc()), name='gate_error', unit='', value=0.03846091469791432)], qubits=[1, 2]), Gate(gate='cx', name='CX2_3', parameters=[Nduv(date=datetime.datetime(2019, 2, 24, 8, 32, 52, tzinfo=tzutc()), name='gate_error', unit='', value=0.04739205412562961)], qubits=[2, 3]), Gate(gate='cx', name='CX4_3', parameters=[Nduv(date=datetime.datetime(2019, 2, 24, 8, 36, 11, tzinfo=tzutc()), name='gate_error', unit='', value=0.02860996641163832)], qubits=[4, 3]), Gate(gate='cx', name='CX4_10', parameters=[Nduv(date=datetime.datetime(2019, 2, 24, 8, 39, 28, tzinfo=tzutc()), name='gate_error', unit='', value=0.031374925181012675)], qubits=[4, 10]), Gate(gate='cx', name='CX5_4', parameters=[Nduv(date=datetime.datetime(2019, 2, 24, 8, 42, 44, tzinfo=tzutc()), name='gate_error', unit='', value=0.051453686904960494)], qubits=[5, 4]), Gate(gate='cx', name='CX5_6', parameters=[Nduv(date=datetime.datetime(2019, 2, 24, 8, 46, 7, tzinfo=tzutc()), name='gate_error', unit='', value=0.056018111963786504)], qubits=[5, 6]), Gate(gate='cx', name='CX5_9', parameters=[Nduv(date=datetime.datetime(2019, 2, 24, 8, 50, 2, tzinfo=tzutc()), name='gate_error', unit='', value=0.1661321750914002)], qubits=[5, 9]), Gate(gate='cx', name='CX6_8', parameters=[Nduv(date=datetime.datetime(2019, 2, 24, 8, 53, 25, tzinfo=tzutc()), name='gate_error', unit='', value=0.03190285369377577)], qubits=[6, 8]), Gate(gate='cx', name='CX7_8', parameters=[Nduv(date=datetime.datetime(2019, 2, 24, 8, 56, 52, tzinfo=tzutc()), name='gate_error', unit='', value=0.030998414283986614)], qubits=[7, 8]), Gate(gate='cx', name='CX9_8', parameters=[Nduv(date=datetime.datetime(2019, 2, 24, 9, 0, 7, tzinfo=tzutc()), name='gate_error', unit='', value=0.054620229393257336)], qubits=[9, 8]), Gate(gate='cx', name='CX9_10', parameters=[Nduv(date=datetime.datetime(2019, 2, 24, 9, 4, 10, tzinfo=tzutc()), name='gate_error', unit='', value=0.09468962960456251)], qubits=[9, 10]), Gate(gate='cx', name='CX11_3', parameters=[Nduv(date=datetime.datetime(2019, 2, 17, 9, 34, 13, tzinfo=tzutc()), name='gate_error', unit='', value=0.08470997965114974)], qubits=[11, 3]), Gate(gate='cx', name='CX11_10', parameters=[Nduv(date=datetime.datetime(2019, 2, 17, 9, 27, 43, tzinfo=tzutc()), name='gate_error', unit='', value=0.035970559672938496)], qubits=[11, 10]), Gate(gate='cx', name='CX11_12', parameters=[Nduv(date=datetime.datetime(2019, 2, 17, 9, 30, 59, tzinfo=tzutc()), name='gate_error', unit='', value=0.03696622318009893)], qubits=[11, 12]), Gate(gate='cx', name='CX12_2', parameters=[Nduv(date=datetime.datetime(2019, 2, 23, 9, 22, 46, tzinfo=tzutc()), name='gate_error', unit='', value=0.08406631659128154)], qubits=[12, 2]), Gate(gate='cx', name='CX13_1', parameters=[Nduv(date=datetime.datetime(2019, 2, 24, 9, 21, 56, tzinfo=tzutc()), name='gate_error', unit='', value=0.24332932218355438)], qubits=[13, 1]), Gate(gate='cx', name='CX13_12', parameters=[Nduv(date=datetime.datetime(2019, 2, 24, 9, 25, 54, tzinfo=tzutc()), name='gate_error', unit='', value=0.07046310537371045)], qubits=[13, 12])], general=[], last_update_date=datetime.datetime(2019, 2, 24, 9, 25, 54, tzinfo=tzutc()), qubits=[[Nduv(date=datetime.datetime(2019, 2, 23, 7, 31, 25, tzinfo=tzutc()), name='T1', unit='µs', value=58.03116760943428), Nduv(date=datetime.datetime(2019, 2, 24, 7, 29, 49, tzinfo=tzutc()), name='T2', unit='µs', value=14.724030341325745), Nduv(date=datetime.datetime(2019, 2, 24, 9, 25, 54, tzinfo=tzutc()), name='frequency', unit='GHz', value=5.10007609747442), Nduv(date=datetime.datetime(2019, 2, 24, 7, 28, 11, tzinfo=tzutc()), name='readout_error', unit='', value=0.06919999999999993)], [Nduv(date=datetime.datetime(2019, 2, 24, 7, 28, 35, tzinfo=tzutc()), name='T1', unit='µs', value=59.83234286514375), Nduv(date=datetime.datetime(2019, 2, 24, 7, 30, 51, tzinfo=tzutc()), name='T2', unit='µs', value=107.86811061878761), Nduv(date=datetime.datetime(2019, 2, 24, 9, 25, 54, tzinfo=tzutc()), name='frequency', unit='GHz', value=5.23868683687039), Nduv(date=datetime.datetime(2019, 2, 24, 7, 28, 11, tzinfo=tzutc()), name='readout_error', unit='', value=0.14939999999999998)], [Nduv(date=datetime.datetime(2019, 2, 24, 7, 28, 35, tzinfo=tzutc()), name='T1', unit='µs', value=78.83230634480451), Nduv(date=datetime.datetime(2019, 2, 24, 7, 31, 51, tzinfo=tzutc()), name='T2', unit='µs', value=102.16011660048183), Nduv(date=datetime.datetime(2019, 2, 24, 9, 25, 54, tzinfo=tzutc()), name='frequency', unit='GHz', value=5.032936880275877), Nduv(date=datetime.datetime(2019, 2, 24, 7, 28, 11, tzinfo=tzutc()), name='readout_error', unit='', value=0.04349999999999998)], [Nduv(date=datetime.datetime(2019, 2, 24, 7, 28, 35, tzinfo=tzutc()), name='T1', unit='µs', value=80.71074437501859), Nduv(date=datetime.datetime(2019, 2, 24, 7, 32, 51, tzinfo=tzutc()), name='T2', unit='µs', value=93.47298373503907), Nduv(date=datetime.datetime(2019, 2, 24, 9, 25, 54, tzinfo=tzutc()), name='frequency', unit='GHz', value=4.896169943144527), Nduv(date=datetime.datetime(2019, 2, 24, 7, 28, 11, tzinfo=tzutc()), name='readout_error', unit='', value=0.2086)], [Nduv(date=datetime.datetime(2019, 2, 24, 7, 28, 35, tzinfo=tzutc()), name='T1', unit='µs', value=44.873050065955645), Nduv(date=datetime.datetime(2019, 2, 24, 7, 29, 49, tzinfo=tzutc()), name='T2', unit='µs', value=31.237964501113378), Nduv(date=datetime.datetime(2019, 2, 24, 9, 25, 54, tzinfo=tzutc()), name='frequency', unit='GHz', value=5.027220338176452), Nduv(date=datetime.datetime(2019, 2, 24, 7, 28, 11, tzinfo=tzutc()), name='readout_error', unit='', value=0.023900000000000032)], [Nduv(date=datetime.datetime(2019, 2, 24, 7, 28, 35, tzinfo=tzutc()), name='T1', unit='µs', value=22.34664027378627), Nduv(date=datetime.datetime(2019, 2, 24, 7, 30, 51, tzinfo=tzutc()), name='T2', unit='µs', value=40.959721679585265), Nduv(date=datetime.datetime(2019, 2, 24, 9, 25, 54, tzinfo=tzutc()), name='frequency', unit='GHz', value=5.067154635274023), Nduv(date=datetime.datetime(2019, 2, 24, 7, 28, 11, tzinfo=tzutc()), name='readout_error', unit='', value=0.09240000000000004)], [Nduv(date=datetime.datetime(2019, 2, 24, 7, 28, 35, tzinfo=tzutc()), name='T1', unit='µs', value=67.06584621261001), Nduv(date=datetime.datetime(2019, 2, 24, 7, 31, 51, tzinfo=tzutc()), name='T2', unit='µs', value=57.56186597322083), Nduv(date=datetime.datetime(2019, 2, 24, 9, 25, 54, tzinfo=tzutc()), name='frequency', unit='GHz', value=4.923808354943549), Nduv(date=datetime.datetime(2019, 2, 24, 7, 28, 11, tzinfo=tzutc()), name='readout_error', unit='', value=0.03509999999999991)], [Nduv(date=datetime.datetime(2019, 2, 24, 7, 28, 35, tzinfo=tzutc()), name='T1', unit='µs', value=37.321197970352195), Nduv(date=datetime.datetime(2019, 2, 24, 7, 32, 51, tzinfo=tzutc()), name='T2', unit='µs', value=35.41966924608856), Nduv(date=datetime.datetime(2019, 2, 24, 9, 25, 54, tzinfo=tzutc()), name='frequency', unit='GHz', value=4.974518925104361), Nduv(date=datetime.datetime(2019, 2, 24, 7, 28, 11, tzinfo=tzutc()), name='readout_error', unit='', value=0.04590000000000005)], [Nduv(date=datetime.datetime(2019, 2, 24, 7, 28, 35, tzinfo=tzutc()), name='T1', unit='µs', value=52.68491800085742), Nduv(date=datetime.datetime(2019, 2, 24, 7, 29, 49, tzinfo=tzutc()), name='T2', unit='µs', value=68.95434334639211), Nduv(date=datetime.datetime(2019, 2, 24, 9, 25, 54, tzinfo=tzutc()), name='frequency', unit='GHz', value=4.739784526128049), Nduv(date=datetime.datetime(2019, 2, 24, 7, 28, 11, tzinfo=tzutc()), name='readout_error', unit='', value=0.04410000000000003)], [Nduv(date=datetime.datetime(2019, 2, 20, 7, 23, 13, tzinfo=tzutc()), name='T1', unit='µs', value=33.78727044438043), Nduv(date=datetime.datetime(2019, 2, 24, 7, 31, 51, tzinfo=tzutc()), name='T2', unit='µs', value=29.148849628536166), Nduv(date=datetime.datetime(2019, 2, 24, 9, 25, 54, tzinfo=tzutc()), name='frequency', unit='GHz', value=4.963352994843123), Nduv(date=datetime.datetime(2019, 2, 24, 7, 28, 11, tzinfo=tzutc()), name='readout_error', unit='', value=0.1129)], [Nduv(date=datetime.datetime(2019, 2, 24, 7, 28, 35, tzinfo=tzutc()), name='T1', unit='µs', value=56.6604397300763), Nduv(date=datetime.datetime(2019, 2, 24, 7, 30, 51, tzinfo=tzutc()), name='T2', unit='µs', value=71.82073067161548), Nduv(date=datetime.datetime(2019, 2, 24, 9, 25, 54, tzinfo=tzutc()), name='frequency', unit='GHz', value=4.945087549654646), Nduv(date=datetime.datetime(2019, 2, 24, 7, 28, 11, tzinfo=tzutc()), name='readout_error', unit='', value=0.04590000000000005)], [Nduv(date=datetime.datetime(2019, 2, 22, 7, 35, 6, tzinfo=tzutc()), name='T1', unit='µs', value=5.62745350040824), Nduv(date=datetime.datetime(2019, 2, 22, 7, 38, 20, tzinfo=tzutc()), name='T2', unit='µs', value=21.6457911319178), Nduv(date=datetime.datetime(2019, 2, 24, 9, 25, 54, tzinfo=tzutc()), name='frequency', unit='GHz', value=5.005975975723903), Nduv(date=datetime.datetime(2019, 2, 24, 7, 28, 11, tzinfo=tzutc()), name='readout_error', unit='', value=0.38339999999999996)], [Nduv(date=datetime.datetime(2019, 2, 24, 7, 28, 35, tzinfo=tzutc()), name='T1', unit='µs', value=66.84149299149782), Nduv(date=datetime.datetime(2019, 2, 24, 7, 30, 51, tzinfo=tzutc()), name='T2', unit='µs', value=86.94911909117845), Nduv(date=datetime.datetime(2019, 2, 24, 9, 25, 54, tzinfo=tzutc()), name='frequency', unit='GHz', value=4.760146191276317), Nduv(date=datetime.datetime(2019, 2, 24, 7, 28, 11, tzinfo=tzutc()), name='readout_error', unit='', value=0.03410000000000002)], [Nduv(date=datetime.datetime(2019, 2, 24, 7, 28, 35, tzinfo=tzutc()), name='T1', unit='µs', value=25.15747019319897), Nduv(date=datetime.datetime(2019, 2, 24, 7, 29, 49, tzinfo=tzutc()), name='T2', unit='µs', value=30.64437222118539), Nduv(date=datetime.datetime(2019, 2, 24, 9, 25, 54, tzinfo=tzutc()), name='frequency', unit='GHz', value=4.968480671260165), Nduv(date=datetime.datetime(2019, 2, 24, 7, 28, 11, tzinfo=tzutc()), name='readout_error', unit='', value=0.1149)]])"
      ]
     },
     "execution_count": 53,
     "metadata": {},
     "output_type": "execute_result"
    }
   ],
   "source": [
    "q_backend.properties()"
   ]
  },
  {
   "cell_type": "markdown",
   "metadata": {
    "slideshow": {
     "slide_type": "slide"
    }
   },
   "source": [
    "# A Prettier Device Overview"
   ]
  },
  {
   "cell_type": "code",
   "execution_count": 54,
   "metadata": {
    "ExecuteTime": {
     "end_time": "2019-02-25T20:24:31.975779Z",
     "start_time": "2019-02-25T20:24:31.952908Z"
    },
    "slideshow": {
     "slide_type": "-"
    }
   },
   "outputs": [],
   "source": [
    "from qiskit.tools.jupyter import *"
   ]
  },
  {
   "cell_type": "markdown",
   "metadata": {
    "slideshow": {
     "slide_type": "fragment"
    }
   },
   "source": [
    "![backends](https://user-images.githubusercontent.com/8622381/51447753-18c78080-1cef-11e9-8d46-4e8818b5bb57.png)"
   ]
  },
  {
   "cell_type": "markdown",
   "metadata": {
    "slideshow": {
     "slide_type": "slide"
    }
   },
   "source": [
    "# Diving into a Specific Backend"
   ]
  },
  {
   "cell_type": "code",
   "execution_count": 101,
   "metadata": {
    "ExecuteTime": {
     "end_time": "2019-02-25T20:24:40.437124Z",
     "start_time": "2019-02-25T20:24:34.938124Z"
    },
    "scrolled": true
   },
   "outputs": [
    {
     "data": {
      "application/vnd.jupyter.widget-view+json": {
       "model_id": "02d22ed016794237bdef6b215c6665be",
       "version_major": 2,
       "version_minor": 0
      },
      "text/plain": [
       "VBox(children=(HTML(value=\"<h1 style='color:#ffffff;background-color:#000000;padding-top: 1%;padding-bottom: 1…"
      ]
     },
     "metadata": {},
     "output_type": "display_data"
    }
   ],
   "source": [
    "%qiskit_backend_monitor q_backend"
   ]
  },
  {
   "cell_type": "markdown",
   "metadata": {
    "slideshow": {
     "slide_type": "slide"
    }
   },
   "source": [
    "# Noise Modelling\n",
    "- The above contains enough information to simulate the approximate noise properties of the device. Chris will talk more about this later."
   ]
  },
  {
   "cell_type": "markdown",
   "metadata": {
    "slideshow": {
     "slide_type": "slide"
    }
   },
   "source": [
    "# Tips and tricks\n",
    "\n",
    "* Put many circuits into a single execution!\n",
    "  * Simulators will (generally) execute these in parallel\n",
    "  * Quantum Hardware does a lot of calibration for each new job, so if you send 100 jobs it will generally take 100x as long as one job with 100 circuits, even if the circuits are completely different!\n",
    "* Increase your timeout when waiting for results! Default is 30 seconds, better to set to 1800 (30 mins)\n",
    "  * See notebook above (ctrl-f for 'timeout')\n",
    "* Use an IDE!! For example Pycharm, VisualStudio, etc. Being able to step through the code is critical!"
   ]
  },
  {
   "cell_type": "markdown",
   "metadata": {
    "slideshow": {
     "slide_type": "slide"
    }
   },
   "source": [
    "* Look at the debug log messages. There is a ton of important info in there. See notebook here\n",
    "  * Even better, save them to a file."
   ]
  },
  {
   "cell_type": "code",
   "execution_count": null,
   "metadata": {
    "slideshow": {
     "slide_type": "fragment"
    }
   },
   "outputs": [],
   "source": [
    "import logging\n",
    "logging.getLogger('qiskit').setLevel(logging.DEBUG)"
   ]
  },
  {
   "cell_type": "markdown",
   "metadata": {
    "slideshow": {
     "slide_type": "fragment"
    }
   },
   "source": [
    "Redirecting logs to a file:\n",
    "\n",
    "```\n",
    "# Redirecting debug logs to a file (can't be done in colab):\n",
    "    loggerc = logging.getLogger('qiskit_aqua_chemistry')\n",
    "    loggerc.setLevel(logging.DEBUG)\n",
    "    loggera = logging.getLogger('qiskit_aqua')\n",
    "    loggera.setLevel(logging.DEBUG)\n",
    "    loggerq = logging.getLogger('qiskit')\n",
    "    loggerq.setLevel(logging.DEBUG)\n",
    "    formatter = logging.Formatter(fmt='%(asctime)s %(levelname)-8s %(message)s', datefmt='%Y-%m-%d %H:%M:%S')\n",
    "    hdlr = logging.FileHandler(outdir + log_file_name, mode='w')\n",
    "    hdlr.setFormatter(formatter)\n",
    "    loggerc.addHandler(hdlr)\n",
    "    loggera.addHandler(hdlr)\n",
    "    loggerq.addHandler(hdlr)\n",
    "    print('\\nlog file: {}'.format(outdir + log_file_name))\n",
    "# <build, execute, etc.>\n",
    "# close up handlers\n",
    "    loggerc.removeHandler(hdlr)\n",
    "    loggera.removeHandler(hdlr)\n",
    "    loggerq.removeHandler(hdlr)\n",
    "    hdlr.close()\n",
    "```"
   ]
  },
  {
   "cell_type": "markdown",
   "metadata": {
    "slideshow": {
     "slide_type": "slide"
    }
   },
   "source": [
    "## Learning more\n",
    "\n",
    "The [qiskit-tutorial](https://github.com/Qiskit/qiskit-tutorial) repo on Github has dozens of thoughtful and sophisticated tutorials. \n",
    "- We highly recommend going through both the “[qiskit/](https://github.com/Qiskit/qiskit-tutorial/tree/master/qiskit)” directory and the “[community/](https://github.com/Qiskit/qiskit-tutorial/tree/master/community)” directory. \n",
    "- We learn new things every time I look through them, and reference them regularly.\n",
    "- If you have any questions come find us or one of the other IBM Q members!"
   ]
  },
  {
   "cell_type": "markdown",
   "metadata": {
    "slideshow": {
     "slide_type": "slide"
    }
   },
   "source": [
    "# Review - Quantum Algorithm Building Blocks\n",
    "\n",
    "Four major building blocks of quantum algorithms:\n",
    "\n",
    "* Quantum Fourier Transform\n",
    "   * Period-finding and phase↔norm swapping\n",
    "   * Speedup from $O(2^n)$ to $O(n^2)$\n",
    "   * E.g. Shor’s algorithm, Quantum Phase Estimation\n",
    "* Hamiltonian Evolution\n",
    "   * Applying a Hamiltonian to an initial state over an arbitrary time period\n",
    "   * Exponential speedup (mostly, with complicated factors)\n",
    "   * E.g. HHL, QAOA, QPE\n",
    "* Unstructured Search (Grover’s)\n",
    "   * Search for a state (string) exhibiting a binary condition (e.g. satisfy my 3SAT problem…)\n",
    "   * Speedup of O(√n)\n",
    "* Variational Optimization\n",
    "   * Prepare a quantum state using a parameterized short circuit, use a classical optimizer to optimize parameters toward some desired quality evaluated on the QC (e.g. binary classification)\n",
    "   * Speedups vary, usually no guaranteed speedup, but good for NISQ machines\n",
    "   * E.g. VQE, VSVM, QAOA"
   ]
  },
  {
   "cell_type": "markdown",
   "metadata": {
    "slideshow": {
     "slide_type": "slide"
    }
   },
   "source": [
    "# Quantum Fourier Transform\n",
    "\n",
    "We've used it above and it is straightforward to implement, but it is not very intuitive as a building block, and I recommend the [tutorial dedicated to it](https://github.com/Qiskit/qiskit-tutorial/blob/master/community/terra/qis_adv/fourier_transform.ipynb) by Anna Phan. I also highly recommmend 3Blue1Brown's video on the [continuous fourier transform](https://www.youtube.com/watch?v=spUNpyF58BY)."
   ]
  },
  {
   "cell_type": "markdown",
   "metadata": {
    "slideshow": {
     "slide_type": "slide"
    }
   },
   "source": [
    "# Hamiltonian Evolution\n",
    "\n",
    "This is trickier, we're working on it. For now, the best way to learn about this in Qiskit is in the [Aqua operator class](https://github.com/Qiskit/aqua/blob/master/qiskit_aqua/operator.py#L1119), which includes lots of evolution logic."
   ]
  },
  {
   "cell_type": "markdown",
   "metadata": {
    "slideshow": {
     "slide_type": "slide"
    }
   },
   "source": [
    "# Grover’s Algorithm\n",
    "\n",
    "Pretty straightforward in Terra. See [this notebook](https://github.com/Qiskit/qiskit-tutorial/blob/master/community/algorithms/grover_algorithm.ipynb) by Giacomo Nannicini and Rudy Raymond.\n",
    "\n"
   ]
  },
  {
   "cell_type": "markdown",
   "metadata": {
    "slideshow": {
     "slide_type": "slide"
    }
   },
   "source": [
    "# Variational Optimization\n",
    "\n",
    "This also doesn't have a standalone tutorial, but the [Aqua VQE](https://github.com/Qiskit/aqua/blob/master/qiskit_aqua/algorithms/adaptive/vqe/vqe.py) is a straightforward, well engineered example of variational optimization. The [Aqua Variational SVM](https://github.com/Qiskit/aqua/blob/master/qiskit_aqua/algorithms/adaptive/qsvm/qsvm_variational.py) is also a good example."
   ]
  },
  {
   "cell_type": "markdown",
   "metadata": {
    "slideshow": {
     "slide_type": "slide"
    }
   },
   "source": [
    "# Learning More - A Longer Course\n",
    "\n",
    "[This doc](https://docs.google.com/document/d/1WoUQky2NXdbrdGkxaUA28VE7W3fryTQG6ezn8Fw-l4E/edit) details a longer course to fluency in Quantum Programming."
   ]
  },
  {
   "cell_type": "markdown",
   "metadata": {
    "slideshow": {
     "slide_type": "slide"
    }
   },
   "source": [
    "# Time Permitting: Transpilation and the DAGCircuit\n",
    "\n",
    "The transpiler is the workhorse of Terra. It’s how we keep circuits backend agnostic and compilable for arbitrary quantum hardware. The transpiler in Terra 0.6 was not transparent or extensible enough for increasingly sophisticated transpilation methods, so we tore it down and rewrote it to be much more robust."
   ]
  },
  {
   "cell_type": "markdown",
   "metadata": {
    "slideshow": {
     "slide_type": "slide"
    }
   },
   "source": [
    "The transpiler now transpiles circuits into circuits, rather than into DAGCircuits. This is much more transparent, and allows the end user to view and understand what individual transpiler passes are doing to their circuit. Here's a sample circuit that won't fit nicely on IBM's hardware (our QPE circuit had nearest neighbor connections, so these qubit remappers won't do much):"
   ]
  },
  {
   "cell_type": "code",
   "execution_count": null,
   "metadata": {
    "ExecuteTime": {
     "end_time": "2019-02-26T03:06:52.757060Z",
     "start_time": "2019-02-26T03:06:52.753414Z"
    },
    "slideshow": {
     "slide_type": "-"
    }
   },
   "outputs": [],
   "source": [
    "from qiskit.transpiler import PassManager\n",
    "from qiskit.transpiler.passes import BasicSwap, CXCancellation, LookaheadSwap, StochasticSwap\n",
    "from qiskit.transpiler import transpile\n",
    "from qiskit.mapper import CouplingMap"
   ]
  },
  {
   "cell_type": "code",
   "execution_count": null,
   "metadata": {
    "ExecuteTime": {
     "end_time": "2019-02-26T03:06:53.443709Z",
     "start_time": "2019-02-26T03:06:52.759261Z"
    },
    "slideshow": {
     "slide_type": "fragment"
    }
   },
   "outputs": [],
   "source": [
    "qr = QuantumRegister(7, 'q')\n",
    "qr = QuantumRegister(7, 'q')\n",
    "tpl_circuit = QuantumCircuit(qr)\n",
    "tpl_circuit.h(qr[3])\n",
    "tpl_circuit.cx(qr[0], qr[6])\n",
    "tpl_circuit.cx(qr[6], qr[0])\n",
    "tpl_circuit.cx(qr[0], qr[1])\n",
    "tpl_circuit.cx(qr[3], qr[1])\n",
    "tpl_circuit.cx(qr[3], qr[0])\n",
    "tpl_circuit.draw()"
   ]
  },
  {
   "cell_type": "markdown",
   "metadata": {
    "slideshow": {
     "slide_type": "slide"
    }
   },
   "source": [
    "# Swap mapping \n",
    "The most naive thing we can do is simply move qubits around greedily with swaps. Let’s see how the BasicSwap pass does here:"
   ]
  },
  {
   "cell_type": "code",
   "execution_count": null,
   "metadata": {
    "ExecuteTime": {
     "end_time": "2019-02-26T03:06:54.936876Z",
     "start_time": "2019-02-26T03:06:54.901141Z"
    },
    "slideshow": {
     "slide_type": "fragment"
    }
   },
   "outputs": [],
   "source": [
    "coupling = [[0, 1], [1, 2], [2, 3], [3, 4], [4, 5], [5, 6]]\n",
    "\n",
    "simulator = BasicAer.get_backend('qasm_simulator')\n",
    "coupling_map = CouplingMap(couplinglist=coupling)\n",
    "pass_manager = PassManager()\n",
    "pass_manager.append([BasicSwap(coupling_map=coupling_map)])\n",
    "basic_circ = transpile(tpl_circuit, simulator, pass_manager=pass_manager)\n",
    "basic_circ.draw()"
   ]
  },
  {
   "cell_type": "markdown",
   "metadata": {
    "slideshow": {
     "slide_type": "slide"
    }
   },
   "source": [
    "Not great. Let’s try Sven Jandura's LookaheadSwap, submitted for the 2018 QISKit\n",
    "Developer Challenge. Sven’s swap pass was merged into Terra, and we will have two more passess from other winners of the Qiskit Developer Challenge soon! We’re constructing a diverse set of passes, many user contributed, to meet the wide-ranging needs and mapping scenarios of circuits in the wild."
   ]
  },
  {
   "cell_type": "code",
   "execution_count": null,
   "metadata": {
    "ExecuteTime": {
     "end_time": "2019-02-26T03:06:58.636001Z",
     "start_time": "2019-02-26T03:06:58.493559Z"
    },
    "slideshow": {
     "slide_type": "fragment"
    }
   },
   "outputs": [],
   "source": [
    "pass_manager = PassManager()\n",
    "pass_manager.append([LookaheadSwap(coupling_map=coupling_map)])\n",
    "lookahead_circ = transpile(tpl_circuit, simulator, pass_manager=pass_manager)\n",
    "lookahead_circ.draw()"
   ]
  },
  {
   "cell_type": "markdown",
   "metadata": {
    "slideshow": {
     "slide_type": "slide"
    }
   },
   "source": [
    "Better! One more try with the StochasticSwap:"
   ]
  },
  {
   "cell_type": "code",
   "execution_count": null,
   "metadata": {
    "ExecuteTime": {
     "end_time": "2019-02-26T03:09:03.129007Z",
     "start_time": "2019-02-26T03:09:03.083391Z"
    },
    "slideshow": {
     "slide_type": "fragment"
    }
   },
   "outputs": [],
   "source": [
    "pass_manager = PassManager()\n",
    "pass_manager.append([StochasticSwap(coupling_map=coupling_map)])\n",
    "stoch_circ = transpile(tpl_circuit, simulator, pass_manager=pass_manager)\n",
    "stoch_circ.draw()"
   ]
  },
  {
   "cell_type": "markdown",
   "metadata": {
    "slideshow": {
     "slide_type": "fragment"
    }
   },
   "source": [
    "Even better, but still more room to go. Right now this all happens behind the scenes for many users, but we hope that these tools make digging into transpilation much more accessible to those attempting to squeeze as much performance as possible out of their experiments on hardware."
   ]
  },
  {
   "cell_type": "markdown",
   "metadata": {
    "slideshow": {
     "slide_type": "slide"
    }
   },
   "source": [
    "# Transpiling for Real Hardware\n",
    "\n",
    "Finally, let's see what the default transpiler does to our circuit to be able to run on a real backend. Note that this will include unrolling into the {U, CX} basis, including the swaps."
   ]
  },
  {
   "cell_type": "code",
   "execution_count": null,
   "metadata": {
    "slideshow": {
     "slide_type": "-"
    }
   },
   "outputs": [],
   "source": [
    "tok_circ = transpile(tpl_circuit, backend=q_backend)\n",
    "tok_circ.draw(line_length=200)"
   ]
  },
  {
   "cell_type": "markdown",
   "metadata": {
    "slideshow": {
     "slide_type": "slide"
    }
   },
   "source": [
    "# Modelling Noise in Aer Based on a Device's Properties\n",
    "\n",
    "Now that you have these properties, you might want to create a noise model for the qasm_simulator which closely resembles this device. A new feature in Aer allows you to do just that. Much of the content below is drawn from [this notebook](https://github.com/Qiskit/qiskit-tutorials/blob/master/qiskit/aer/device_noise_simulation.ipynb).\n",
    "\n",
    "First, let's pick a backend:"
   ]
  },
  {
   "cell_type": "code",
   "execution_count": 56,
   "metadata": {
    "slideshow": {
     "slide_type": "-"
    }
   },
   "outputs": [
    {
     "data": {
      "text/plain": [
       "[<IBMQBackend('ibmqx2') from IBMQ()>,\n",
       " <IBMQBackend('ibmqx4') from IBMQ()>,\n",
       " <IBMQBackend('ibmq_16_melbourne') from IBMQ()>,\n",
       " <IBMQBackend('ibmq_4_atlantis') from IBMQ()>,\n",
       " <IBMQBackend('ibmq_local_test_mock') from IBMQ()>,\n",
       " <IBMQBackend('ibmq_qasm_simulator') from IBMQ()>]"
      ]
     },
     "execution_count": 56,
     "metadata": {},
     "output_type": "execute_result"
    }
   ],
   "source": [
    "IBMQ.backends(filters= lambda b: b.hub is None)"
   ]
  },
  {
   "cell_type": "markdown",
   "metadata": {
    "slideshow": {
     "slide_type": "slide"
    }
   },
   "source": [
    "Now, we need to pull the device information:"
   ]
  },
  {
   "cell_type": "code",
   "execution_count": 57,
   "metadata": {
    "slideshow": {
     "slide_type": "-"
    }
   },
   "outputs": [],
   "source": [
    "device = IBMQ.get_backend('ibmq_16_melbourne')\n",
    "properties = device.properties()\n",
    "coupling_map = device.configuration().coupling_map"
   ]
  },
  {
   "cell_type": "markdown",
   "metadata": {
    "slideshow": {
     "slide_type": "slide"
    }
   },
   "source": [
    "Now, let's construct the device noise model.\n",
    "\n",
    "Note: The devices don't currently provide gate times, so we will manually provide them for the gates we are interested in using the optional gate_times argument for basic_device_noise_model."
   ]
  },
  {
   "cell_type": "code",
   "execution_count": 58,
   "metadata": {
    "slideshow": {
     "slide_type": "-"
    }
   },
   "outputs": [],
   "source": [
    "from qiskit.providers.aer import noise"
   ]
  },
  {
   "cell_type": "code",
   "execution_count": 59,
   "metadata": {
    "slideshow": {
     "slide_type": "-"
    }
   },
   "outputs": [
    {
     "name": "stdout",
     "output_type": "stream",
     "text": [
      "NoiseModel:\n",
      "  Instructions with noise: ['measure', 'u2', 'cx', 'u3']\n",
      "  Specific qubit errors: [('u2', [0]), ('u2', [1]), ('u2', [2]), ('u2', [3]), ('u2', [4]), ('u2', [5]), ('u2', [6]), ('u2', [7]), ('u2', [8]), ('u2', [9]), ('u2', [10]), ('u2', [11]), ('u2', [12]), ('u2', [13]), ('u3', [0]), ('u3', [1]), ('u3', [2]), ('u3', [3]), ('u3', [4]), ('u3', [5]), ('u3', [6]), ('u3', [7]), ('u3', [8]), ('u3', [9]), ('u3', [10]), ('u3', [11]), ('u3', [12]), ('u3', [13]), ('cx', [1, 0]), ('cx', [1, 2]), ('cx', [2, 3]), ('cx', [4, 3]), ('cx', [4, 10]), ('cx', [5, 4]), ('cx', [5, 6]), ('cx', [5, 9]), ('cx', [6, 8]), ('cx', [7, 8]), ('cx', [9, 8]), ('cx', [9, 10]), ('cx', [11, 3]), ('cx', [11, 10]), ('cx', [11, 12]), ('cx', [12, 2]), ('cx', [13, 1]), ('cx', [13, 12]), ('measure', [0]), ('measure', [1]), ('measure', [2]), ('measure', [3]), ('measure', [4]), ('measure', [5]), ('measure', [6]), ('measure', [7]), ('measure', [8]), ('measure', [9]), ('measure', [10]), ('measure', [11]), ('measure', [12]), ('measure', [13])]\n"
     ]
    }
   ],
   "source": [
    "# List of gate times for ibmq_14_melbourne device\n",
    "# Note that the None parameter for u1, u2, u3 is because gate\n",
    "# times are the same for all qubits\n",
    "gate_times = [\n",
    "    ('u1', None, 0), ('u2', None, 50), ('u3', None, 100),\n",
    "    ('cx', [1, 0], 678), # I can add gate times for specific couplings, or all couplings\n",
    "    ('cx', [], 600)\n",
    "]\n",
    "\n",
    "# Construct the noise model from backend properties\n",
    "# and custom gate times\n",
    "noise_model = noise.device.\\\n",
    "              basic_device_noise_model(properties,\n",
    "                                       gate_times=gate_times)\n",
    "print(noise_model)"
   ]
  },
  {
   "cell_type": "markdown",
   "metadata": {
    "slideshow": {
     "slide_type": "slide"
    }
   },
   "source": [
    "Now, let's use this model to simulate our QPE circuit. Note, this can take a few minutes to run."
   ]
  },
  {
   "cell_type": "code",
   "execution_count": null,
   "metadata": {
    "slideshow": {
     "slide_type": "-"
    }
   },
   "outputs": [],
   "source": [
    "shots = 1000\n",
    "basis_gates = noise_model.basis_gates\n",
    "\n",
    "# Select the QasmSimulator from the Aer provider\n",
    "simulator = Aer.get_backend('qasm_simulator')\n",
    "\n",
    "# Execute noisy simulation and get counts\n",
    "result_noise = execute(circuit, simulator, \n",
    "                       shots=shots,\n",
    "                       noise_model=noise_model,\n",
    "                       coupling_map=coupling_map,\n",
    "                       basis_gates=basis_gates).result()\n",
    "counts_noise = result_noise.get_counts(circuit)\n",
    "plot_histogram(counts_noise, title=\"Counts for QPE circuit with depolarizing noise model\")"
   ]
  },
  {
   "cell_type": "code",
   "execution_count": null,
   "metadata": {
    "slideshow": {
     "slide_type": "slide"
    }
   },
   "outputs": [],
   "source": [
    "# And now our phase estimate:\n",
    "angles = np.array([v*int(k, 2) for k, v in counts_noise.items()]) / shots / 2**(n-1)\n",
    "res = 2*sum(angles)\n",
    "np.around(res, decimals=5)"
   ]
  },
  {
   "cell_type": "markdown",
   "metadata": {
    "slideshow": {
     "slide_type": "-"
    }
   },
   "source": [
    "This is actually worse than we get from the device! More tuning to do here."
   ]
  }
 ],
 "metadata": {
  "celltoolbar": "Slideshow",
  "kernelspec": {
   "display_name": "Python 3",
   "language": "python",
   "name": "python3"
  },
  "language_info": {
   "codemirror_mode": {
    "name": "ipython",
    "version": 3
   },
   "file_extension": ".py",
   "mimetype": "text/x-python",
   "name": "python",
   "nbconvert_exporter": "python",
   "pygments_lexer": "ipython3",
   "version": "3.6.7"
  },
  "livereveal": {
   "scroll": true
  }
 },
 "nbformat": 4,
 "nbformat_minor": 2
}
