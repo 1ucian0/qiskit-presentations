{
 "cells": [
  {
   "cell_type": "markdown",
   "metadata": {
    "slideshow": {
     "slide_type": "slide"
    }
   },
   "source": [
    "<img src=\"../../../images/qiskit-heading.gif\" alt=\"Note: In order for images to show up in this jupyter notebook you need to select File => Trusted Notebook\" width=\"500 px\" align=\"left\">"
   ]
  },
  {
   "cell_type": "markdown",
   "metadata": {
    "slideshow": {
     "slide_type": "slide"
    }
   },
   "source": [
    "# _*Qiskit Chemistry, Programmatic Approach*_ \n",
    "\n",
    "The latest version of this notebook is available on https://github.com/Qiskit/qiskit-tutorial.\n",
    "\n",
    "***\n",
    "### Contributors\n",
    "Richard Chen<sup>[1]</sup>, Antonio Mezzacapo<sup>[1]</sup>, Marco Pistoia<sup>[1]</sup>, Stephen Wood<sup>[1]</sup>\n",
    "### Affiliation\n",
    "- <sup>[1]</sup>IBMQ"
   ]
  },
  {
   "cell_type": "markdown",
   "metadata": {
    "slideshow": {
     "slide_type": "slide"
    }
   },
   "source": [
    "### Introduction\n",
    "In the [declarative_approach](declarative_approach.ipynb) example, we show how to configure different parameters in an input dictionary for different experiments in Qiskit Chemistry. However, many users might be intersted in experimenting with new algorithms or algorithm components, or in programming an experiment step by step using the Qiskit Chemistry APIs.  This notebook illustrates how to use Qiskit Chemistry's programmatic APIs.\n",
    "\n",
    "In this notebook, we decompose the computation of the ground state energy of a molecule into 4 steps:\n",
    "  1. Define a molecule and get integrals from a computational chemistry driver (PySCF in this case)\n",
    "  2. Construct a Fermionic Hamiltonian and map it onto a qubit Hamiltonian\n",
    "  3. Instantiated and initialize dynamically-loaded algorithmic components, such as the quantum algorithm VQE, the optimizer and variational form it will use, and the initial_state to initialize the variational form\n",
    "  4. Run the algorithm on a quantum backend and retrieve the results"
   ]
  },
  {
   "cell_type": "code",
   "execution_count": 1,
   "metadata": {
    "slideshow": {
     "slide_type": "slide"
    }
   },
   "outputs": [],
   "source": [
    "# import common packages\n",
    "import numpy as np\n",
    "\n",
    "from qiskit import Aer\n",
    "\n",
    "# lib from Qiskit Aqua\n",
    "from qiskit.aqua import Operator, QuantumInstance\n",
    "from qiskit.aqua.algorithms import VQE, ExactEigensolver\n",
    "from qiskit.aqua.components.optimizers import COBYLA\n",
    "\n",
    "# lib from Qiskit Aqua Chemistry\n",
    "from qiskit.chemistry import FermionicOperator\n",
    "from qiskit.chemistry.drivers import PySCFDriver, UnitsType\n",
    "from qiskit.chemistry.aqua_extensions.components.variational_forms import UCCSD\n",
    "from qiskit.chemistry.aqua_extensions.components.initial_states import HartreeFock"
   ]
  },
  {
   "cell_type": "markdown",
   "metadata": {
    "slideshow": {
     "slide_type": "slide"
    }
   },
   "source": [
    "### Step 1: define a molecule\n",
    "Here, we use LiH in sto3g basis with PySCF driver as an example.\n",
    "The `molecule` object records the information from the PySCF driver."
   ]
  },
  {
   "cell_type": "code",
   "execution_count": 2,
   "metadata": {
    "slideshow": {
     "slide_type": "slide"
    }
   },
   "outputs": [],
   "source": [
    "# using driver to get fermionic Hamiltonian\n",
    "# PySCF example\n",
    "driver = PySCFDriver(atom='Li .0 .0 .0; H .0 .0 1.6', unit=UnitsType.ANGSTROM,\n",
    "                     charge=0, spin=0, basis='sto3g')\n",
    "molecule = driver.run()"
   ]
  },
  {
   "cell_type": "markdown",
   "metadata": {
    "slideshow": {
     "slide_type": "slide"
    }
   },
   "source": [
    "### Step 2: Prepare qubit Hamiltonian\n",
    "Here, we setup the **to-be-frozen** and **to-be-removed** orbitals to reduce the problem size when we mapping to qubit Hamiltonian. Furthermore, we define the **mapping type** for qubit Hamiltonian.\n",
    "For the particular `parity` mapping, we can further reduce the problem size."
   ]
  },
  {
   "cell_type": "code",
   "execution_count": 3,
   "metadata": {
    "slideshow": {
     "slide_type": "slide"
    }
   },
   "outputs": [
    {
     "name": "stdout",
     "output_type": "stream",
     "text": [
      "HF energy: -8.85407204028365\n",
      "# of electrons: 4\n",
      "# of spin orbitals: 12\n"
     ]
    }
   ],
   "source": [
    "# please be aware that the idx here with respective to original idx\n",
    "freeze_list = [0]\n",
    "remove_list = [-3, -2] # negative number denotes the reverse order\n",
    "map_type = 'parity'\n",
    "\n",
    "h1 = molecule.one_body_integrals\n",
    "h2 = molecule.two_body_integrals\n",
    "nuclear_repulsion_energy = molecule.nuclear_repulsion_energy\n",
    "\n",
    "num_particles = molecule.num_alpha + molecule.num_beta\n",
    "num_spin_orbitals = molecule.num_orbitals * 2\n",
    "print(\"HF energy: {}\".format(molecule.hf_energy - molecule.nuclear_repulsion_energy))\n",
    "print(\"# of electrons: {}\".format(num_particles))\n",
    "print(\"# of spin orbitals: {}\".format(num_spin_orbitals))"
   ]
  },
  {
   "cell_type": "code",
   "execution_count": 4,
   "metadata": {
    "slideshow": {
     "slide_type": "slide"
    }
   },
   "outputs": [],
   "source": [
    "# prepare full idx of freeze_list and remove_list\n",
    "# convert all negative idx to positive\n",
    "remove_list = [x % molecule.num_orbitals for x in remove_list]\n",
    "freeze_list = [x % molecule.num_orbitals for x in freeze_list]\n",
    "# update the idx in remove_list of the idx after frozen, since the idx of orbitals are changed after freezing\n",
    "remove_list = [x - len(freeze_list) for x in remove_list]\n",
    "remove_list += [x + molecule.num_orbitals - len(freeze_list)  for x in remove_list]\n",
    "freeze_list += [x + molecule.num_orbitals for x in freeze_list]\n",
    "\n",
    "# prepare fermionic hamiltonian with orbital freezing and eliminating, and then map to qubit hamiltonian\n",
    "# and if PARITY mapping is selected, reduction qubits\n",
    "energy_shift = 0.0\n",
    "qubit_reduction = True if map_type == 'parity' else False\n",
    "\n",
    "ferOp = FermionicOperator(h1=h1, h2=h2)\n",
    "if len(freeze_list) > 0:\n",
    "    ferOp, energy_shift = ferOp.fermion_mode_freezing(freeze_list)\n",
    "    num_spin_orbitals -= len(freeze_list)\n",
    "    num_particles -= len(freeze_list)\n",
    "if len(remove_list) > 0:\n",
    "    ferOp = ferOp.fermion_mode_elimination(remove_list)\n",
    "    num_spin_orbitals -= len(remove_list)\n",
    "\n",
    "qubitOp = ferOp.mapping(map_type=map_type, threshold=0.00000001)\n",
    "qubitOp = qubitOp.two_qubit_reduced_operator(num_particles) if qubit_reduction else qubitOp\n",
    "qubitOp.chop(10**-10)"
   ]
  },
  {
   "cell_type": "markdown",
   "metadata": {
    "slideshow": {
     "slide_type": "slide"
    }
   },
   "source": [
    "We use the classical eigen decomposition to get the smallest eigenvalue as a reference."
   ]
  },
  {
   "cell_type": "code",
   "execution_count": 5,
   "metadata": {
    "slideshow": {
     "slide_type": "slide"
    }
   },
   "outputs": [
    {
     "name": "stdout",
     "output_type": "stream",
     "text": [
      "The computed energy is: -1.077059745735\n",
      "The total ground state energy is: -7.881072044031\n"
     ]
    }
   ],
   "source": [
    "# Using exact eigensolver to get the smallest eigenvalue\n",
    "exact_eigensolver = ExactEigensolver(qubitOp, k=1)\n",
    "ret = exact_eigensolver.run()\n",
    "print('The computed energy is: {:.12f}'.format(ret['eigvals'][0].real))\n",
    "print('The total ground state energy is: {:.12f}'.format(ret['eigvals'][0].real + energy_shift + nuclear_repulsion_energy))"
   ]
  },
  {
   "cell_type": "markdown",
   "metadata": {
    "slideshow": {
     "slide_type": "slide"
    }
   },
   "source": [
    "### Step 3: Initiate and config dynamically-loaded instances\n",
    "To run VQE with UCCSD variational form, we require\n",
    "- VQE algorithm\n",
    "- Classical Optimizer\n",
    "- UCCSD variational form\n",
    "- Prepare the initial state into HartreeFock state"
   ]
  },
  {
   "cell_type": "markdown",
   "metadata": {
    "slideshow": {
     "slide_type": "slide"
    }
   },
   "source": [
    "### [Optional] Setup token to run the experiment on a real device\n",
    "If you would like to run the experiement on a real device, you need to setup your account first.\n",
    "\n",
    "Note: If you do not store your token yet, use `IBMQ.save_accounts()` to store it first."
   ]
  },
  {
   "cell_type": "code",
   "execution_count": 6,
   "metadata": {
    "slideshow": {
     "slide_type": "slide"
    }
   },
   "outputs": [],
   "source": [
    "# from qiskit import IBMQ\n",
    "# IBMQ.load_accounts()"
   ]
  },
  {
   "cell_type": "code",
   "execution_count": 7,
   "metadata": {
    "slideshow": {
     "slide_type": "slide"
    }
   },
   "outputs": [],
   "source": [
    "backend = Aer.get_backend('statevector_simulator')"
   ]
  },
  {
   "cell_type": "code",
   "execution_count": 8,
   "metadata": {
    "scrolled": true,
    "slideshow": {
     "slide_type": "slide"
    }
   },
   "outputs": [],
   "source": [
    "# setup COBYLA optimizer\n",
    "max_eval = 200\n",
    "cobyla = COBYLA(maxiter=max_eval)\n",
    "\n",
    "# setup HartreeFock state\n",
    "HF_state = HartreeFock(qubitOp.num_qubits, num_spin_orbitals, num_particles, map_type, \n",
    "                       qubit_reduction)\n",
    "\n",
    "# setup UCCSD variational form\n",
    "var_form = UCCSD(qubitOp.num_qubits, depth=1, \n",
    "                   num_orbitals=num_spin_orbitals, num_particles=num_particles, \n",
    "                   active_occupied=[0], active_unoccupied=[0, 1],\n",
    "                   initial_state=HF_state, qubit_mapping=map_type, \n",
    "                   two_qubit_reduction=qubit_reduction, num_time_slices=1)\n",
    "\n",
    "# setup VQE\n",
    "vqe = VQE(qubitOp, var_form, cobyla, 'matrix')\n",
    "quantum_instance = QuantumInstance(backend=backend)"
   ]
  },
  {
   "cell_type": "markdown",
   "metadata": {
    "slideshow": {
     "slide_type": "slide"
    }
   },
   "source": [
    "### Step 4: Run algorithm and retrieve the results\n",
    "The smallest eigenvalue is stored in the first entry of the `eigvals` key."
   ]
  },
  {
   "cell_type": "code",
   "execution_count": 9,
   "metadata": {
    "slideshow": {
     "slide_type": "slide"
    }
   },
   "outputs": [
    {
     "name": "stdout",
     "output_type": "stream",
     "text": [
      "The computed ground state energy is: -1.077059737908\n",
      "The total ground state energy is: -7.881072036205\n",
      "Parameters: [ 0.03425824  0.0052999   0.03442233  0.00533808 -0.03878529  0.06029099\n",
      "  0.06050635 -0.11631612]\n"
     ]
    }
   ],
   "source": [
    "results = vqe.run(quantum_instance)\n",
    "print('The computed ground state energy is: {:.12f}'.format(results['eigvals'][0]))\n",
    "print('The total ground state energy is: {:.12f}'.format(results['eigvals'][0] + energy_shift + nuclear_repulsion_energy))\n",
    "print(\"Parameters: {}\".format(results['opt_params']))"
   ]
  },
  {
   "cell_type": "code",
   "execution_count": null,
   "metadata": {
    "slideshow": {
     "slide_type": "slide"
    }
   },
   "outputs": [],
   "source": []
  }
 ],
 "metadata": {
  "celltoolbar": "Slideshow",
  "kernelspec": {
   "display_name": "Python 3",
   "language": "python",
   "name": "python3"
  },
  "language_info": {
   "codemirror_mode": {
    "name": "ipython",
    "version": 3
   },
   "file_extension": ".py",
   "mimetype": "text/x-python",
   "name": "python",
   "nbconvert_exporter": "python",
   "pygments_lexer": "ipython3",
   "version": "3.6.4"
  }
 },
 "nbformat": 4,
 "nbformat_minor": 2
}
